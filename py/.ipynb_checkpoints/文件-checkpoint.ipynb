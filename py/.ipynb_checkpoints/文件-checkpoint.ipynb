{
 "cells": [
  {
   "cell_type": "code",
   "execution_count": 2,
   "metadata": {},
   "outputs": [
    {
     "name": "stdout",
     "output_type": "stream",
     "text": [
      "C:\\Users\\win10\\Desktop\\京东发货数据\n",
      "成功创建！\n"
     ]
    }
   ],
   "source": [
    "# 检查主目录中是否存在某文件夹，若不存在就创建\n",
    "import os\n",
    "MESSAGE='The directory already exists.'\n",
    "TESTDIR='宝视佳4.9退件副本.xlsx'\n",
    "try: \n",
    "    home=os.path.expanduser(r\"C:\\Users\\win10\\Desktop\\京东发货数据\")\n",
    "    print(home)\n",
    "    if not os.path.exists(os.path.join(home,TESTDIR)):\n",
    "        f = open(os.path.join(home,TESTDIR), \"x\")\n",
    "        print(\"成功创建！\")\n",
    "        f.close()\n",
    "    else:\n",
    "        print(MESSAGE)\n",
    "except Exception as e:\n",
    "    print(e)\n",
    "    \n",
    "#os.makedirs(os.path.join(home,TESTDIR)) 创建文件夹\n",
    "# \"x\" - 创建 - 将创建一个文件，如果文件存在则返回错误\n",
    "# \"a\" - 追加 - 如果指定的文件不存在，将创建一个文件;a+\t可读可写\n",
    "# \"w\" - 写入 - 如果指定的文件不存在，将创建一个文件;w+\t可读可写\n",
    "# \"r - 只读 - 如果指定的文件不存在，如果文件不存在报错;r+\t可读可写"
   ]
  },
  {
   "cell_type": "code",
   "execution_count": 5,
   "metadata": {},
   "outputs": [
    {
     "name": "stdout",
     "output_type": "stream",
     "text": [
      "The resolution of the image  is 1012 x 445\n"
     ]
    }
   ],
   "source": [
    "# 读取图片分辨率\n",
    "def jpeg_res(filename):\n",
    "    # open image for reading in bina\n",
    "    with open(filename, 'rb') as img_file:\n",
    "        # height of image (in 2 byte） is at 164th position\n",
    "        img_file.seek(163)\n",
    "        # read the 2 bytes\n",
    "        a = img_file.read(2)\n",
    "        # calculate height\n",
    "        height = (a[0] << 8) + a[1]\n",
    "        # next 2 bytes is width\n",
    "        a = img_file.read(2)\n",
    "        # calculate width\n",
    "        width = (a[0] << 8) + a[1]\n",
    "        print(\"The resolution of the image  is\", width, \"x\", height)\n",
    "\n",
    "jpeg_res(r\"C:\\Users\\win10\\Desktop\\1.jpg\")"
   ]
  },
  {
   "cell_type": "code",
   "execution_count": 1,
   "metadata": {
    "collapsed": true
   },
   "outputs": [
    {
     "name": "stdout",
     "output_type": "stream",
     "text": [
      "[{'order_id': 1000001, 'platform': 4, 'platform_order_id': '606f02f8cdafb4d5fe89dddd', 'original_order_id': 0, 'copy_type': 0, 'resend_type': 0, 'split_type': 0, 'order_type': None, 'order_status': 'SHIPPED', 'currency': 'CNY', 'total_price': 18.42, 'fee_or_credit': 0.0, 'sale_date': datetime.datetime(2021, 4, 9, 5, 32, 35), 'paid_date': datetime.datetime(2021, 4, 9, 5, 32, 35), 'print_date': None, 'deliver_date': None, 'last_modified_time': datetime.datetime(2021, 4, 12, 14, 13, 14), 'seller_id': 'wish_shoprythe', 'seller_email': None, 'seller_pay': None, 'buyer_id': 'XRHSTOS RAPTHS', 'buyer_name': 'XRHSTOS RAPTHS', 'buyer_mobile': '', 'buyer_tel': '2741020047', 'buyer_country_code': 'GR', 'buyer_country': 'Greece', 'buyer_postal_code': '20100', 'street': 'ARGOUS 54', 'street2': '', 'buyer_city': 'KORINTHOS', 'buyer_state_or_province': '', 'buyer_email': '', 'buyer_checkout': None, 'reference_id': None, 'payment_status': None, 'is_paid': 1, 'is_refunded': 0, 'complete_status': '', 'sales_record_number': '', 'logistics_company': None, 'shipping_service': 'WishPost', 'shipping_cost': 6.95, 'shipping_status': 0, 'freight': 0.0, 'is_shipped': None, 'shipped_time': datetime.datetime(2021, 4, 12, 8, 0), 'logistics_type': 1616, 'tracking_number': None, 'agent_mailno': '', 'is_sign_shipped': 0, 'is_sign_outstock': 0, 'is_sign_deliver': 0, 'is_sign_message': 0, 'is_sign_feedback': 0, 'is_sign_paid': 0, 'is_sign_refund': 0, 'is_sign_prompt': 0, 'is_distribution': 0, 'real_weight': 0.0, 'system_price': 65.63, 'status': 7, 'extends_status': '', 'creation_date': datetime.datetime(2021, 4, 9, 5, 50, 5), 'created_by': None, 'last_update_date': datetime.datetime(2021, 4, 12, 20, 0, 12), 'last_updated_by': 1454, 'in_print_date': datetime.datetime(2021, 4, 12, 7, 57, 53), 'in_merge_date': datetime.datetime(2021, 4, 12, 14, 13, 37), 'in_stockout_date': datetime.datetime(2021, 4, 9, 5, 51, 13), 'remark': None, 'is_locked': None, 'receipt_date': None}, {'order_id': 176374702, 'platform': 13, 'platform_order_id': '2012171258KP9TS', 'original_order_id': None, 'copy_type': None, 'resend_type': None, 'split_type': 0, 'order_type': None, 'order_status': '12313', 'currency': 'CNY', 'total_price': 2450.0, 'fee_or_credit': 0.0, 'sale_date': datetime.datetime(2016, 10, 28, 16, 31, 13), 'paid_date': datetime.datetime(2021, 1, 25, 8, 0), 'print_date': None, 'deliver_date': datetime.datetime(2021, 4, 12, 9, 25, 7), 'last_modified_time': datetime.datetime(2020, 10, 21, 0, 3, 19), 'seller_id': 'test', 'seller_email': None, 'seller_pay': None, 'buyer_id': '', 'buyer_name': 'Amazon.com.ca, Inc.', 'buyer_mobile': '', 'buyer_tel': ' 4158519136', 'buyer_country_code': 'US', 'buyer_country': 'United States', 'buyer_postal_code': '14752', 'street': '8050 Heritage Road', 'street2': '', 'buyer_city': 'Brampton', 'buyer_state_or_province': 'ON ', 'buyer_email': '', 'buyer_checkout': None, 'reference_id': None, 'payment_status': None, 'is_paid': 1, 'is_refunded': None, 'complete_status': '', 'sales_record_number': '', 'logistics_company': 'other', 'shipping_service': None, 'shipping_cost': None, 'shipping_status': None, 'freight': 0.0, 'is_shipped': 1, 'shipped_time': datetime.datetime(2020, 11, 4, 9, 11, 4), 'logistics_type': 1637, 'tracking_number': 'AQ851236299CN', 'agent_mailno': '1763747022218', 'is_sign_shipped': 0, 'is_sign_outstock': 1, 'is_sign_deliver': None, 'is_sign_message': None, 'is_sign_feedback': None, 'is_sign_paid': None, 'is_sign_refund': None, 'is_sign_prompt': None, 'is_distribution': None, 'real_weight': 0.0, 'system_price': 38.34, 'status': 97, 'extends_status': '17', 'creation_date': datetime.datetime(2019, 3, 29, 5, 5), 'created_by': 18696, 'last_update_date': datetime.datetime(2021, 3, 17, 15, 30, 42), 'last_updated_by': 1454, 'in_print_date': None, 'in_merge_date': None, 'in_stockout_date': datetime.datetime(2021, 1, 25, 8, 0), 'remark': '', 'is_locked': None, 'receipt_date': None}]\n"
     ]
    },
    {
     "ename": "InterfaceError",
     "evalue": "No result set to fetch from.",
     "output_type": "error",
     "traceback": [
      "\u001b[1;31m---------------------------------------------------------------------------\u001b[0m",
      "\u001b[1;31mInterfaceError\u001b[0m                            Traceback (most recent call last)",
      "\u001b[1;32m<ipython-input-1-990604368385>\u001b[0m in \u001b[0;36m<module>\u001b[1;34m\u001b[0m\n\u001b[0;32m     21\u001b[0m \u001b[0mprint\u001b[0m\u001b[1;33m(\u001b[0m\u001b[0mresult\u001b[0m\u001b[1;33m)\u001b[0m\u001b[1;33m\u001b[0m\u001b[1;33m\u001b[0m\u001b[0m\n\u001b[0;32m     22\u001b[0m \u001b[1;31m#只打印数据\u001b[0m\u001b[1;33m\u001b[0m\u001b[1;33m\u001b[0m\u001b[1;33m\u001b[0m\u001b[0m\n\u001b[1;32m---> 23\u001b[1;33m \u001b[0mmyresult\u001b[0m \u001b[1;33m=\u001b[0m \u001b[0mcur\u001b[0m\u001b[1;33m.\u001b[0m\u001b[0mfetchall\u001b[0m\u001b[1;33m(\u001b[0m\u001b[1;33m)\u001b[0m\u001b[1;33m\u001b[0m\u001b[1;33m\u001b[0m\u001b[0m\n\u001b[0m\u001b[0;32m     24\u001b[0m \u001b[1;31m# for res in myresult:\u001b[0m\u001b[1;33m\u001b[0m\u001b[1;33m\u001b[0m\u001b[1;33m\u001b[0m\u001b[0m\n\u001b[0;32m     25\u001b[0m \u001b[1;31m#     print(res)\u001b[0m\u001b[1;33m\u001b[0m\u001b[1;33m\u001b[0m\u001b[1;33m\u001b[0m\u001b[0m\n",
      "\u001b[1;32mD:\\anaconda\\lib\\site-packages\\mysql\\connector\\cursor.py\u001b[0m in \u001b[0;36mfetchall\u001b[1;34m(self)\u001b[0m\n\u001b[0;32m    879\u001b[0m     \u001b[1;32mdef\u001b[0m \u001b[0mfetchall\u001b[0m\u001b[1;33m(\u001b[0m\u001b[0mself\u001b[0m\u001b[1;33m)\u001b[0m\u001b[1;33m:\u001b[0m\u001b[1;33m\u001b[0m\u001b[1;33m\u001b[0m\u001b[0m\n\u001b[0;32m    880\u001b[0m         \u001b[1;32mif\u001b[0m \u001b[1;32mnot\u001b[0m \u001b[0mself\u001b[0m\u001b[1;33m.\u001b[0m\u001b[0m_have_unread_result\u001b[0m\u001b[1;33m(\u001b[0m\u001b[1;33m)\u001b[0m\u001b[1;33m:\u001b[0m\u001b[1;33m\u001b[0m\u001b[1;33m\u001b[0m\u001b[0m\n\u001b[1;32m--> 881\u001b[1;33m             \u001b[1;32mraise\u001b[0m \u001b[0merrors\u001b[0m\u001b[1;33m.\u001b[0m\u001b[0mInterfaceError\u001b[0m\u001b[1;33m(\u001b[0m\u001b[1;34m\"No result set to fetch from.\"\u001b[0m\u001b[1;33m)\u001b[0m\u001b[1;33m\u001b[0m\u001b[1;33m\u001b[0m\u001b[0m\n\u001b[0m\u001b[0;32m    882\u001b[0m         \u001b[1;33m(\u001b[0m\u001b[0mrows\u001b[0m\u001b[1;33m,\u001b[0m \u001b[0meof\u001b[0m\u001b[1;33m)\u001b[0m \u001b[1;33m=\u001b[0m \u001b[0mself\u001b[0m\u001b[1;33m.\u001b[0m\u001b[0m_connection\u001b[0m\u001b[1;33m.\u001b[0m\u001b[0mget_rows\u001b[0m\u001b[1;33m(\u001b[0m\u001b[1;33m)\u001b[0m\u001b[1;33m\u001b[0m\u001b[1;33m\u001b[0m\u001b[0m\n\u001b[0;32m    883\u001b[0m         \u001b[1;32mif\u001b[0m \u001b[0mself\u001b[0m\u001b[1;33m.\u001b[0m\u001b[0m_nextrow\u001b[0m\u001b[1;33m[\u001b[0m\u001b[1;36m0\u001b[0m\u001b[1;33m]\u001b[0m\u001b[1;33m:\u001b[0m\u001b[1;33m\u001b[0m\u001b[1;33m\u001b[0m\u001b[0m\n",
      "\u001b[1;31mInterfaceError\u001b[0m: No result set to fetch from."
     ]
    }
   ],
   "source": [
    "# 连接mysql\n",
    "import mysql.connector\n",
    "mydb = mysql.connector.connect(\n",
    "    host=\"192.168.99.214\",\n",
    "    user=\"bessky_pss\",\n",
    "    passwd=\"20092009\",\n",
    "    database=\"bessky_pss\"\n",
    ")\n",
    "cur = mydb.cursor()\n",
    "cur.execute(\"select * from t_order limit 0,2\")\n",
    "# import pdb; pdb.set_trace()\n",
    "index = cur.description\n",
    "#index=[('order_id', 3, None, None, None, None, 0, 16907), ..] 二维列表-[tuple元祖]\n",
    "result = []\n",
    "for res in cur.fetchall():\n",
    "    row = {}\n",
    "    for i in range(len(index)):\n",
    "        row[index[i][0]] = res[i]\n",
    "        # 取出列表的列名与数据组成字典\n",
    "    result.append(row)\n",
    "print(result) \n",
    "#只打印数据\n",
    "myresult = cur.fetchall()\n",
    "# for res in myresult:\n",
    "#     print(res)    \n",
    "# myresult=[(1000001, 4, '606f02f8cdafb4d5fe89dddd',..] \n",
    "mydb.close()\n"
   ]
  },
  {
   "cell_type": "code",
   "execution_count": 9,
   "metadata": {
    "collapsed": true
   },
   "outputs": [
    {
     "name": "stdout",
     "output_type": "stream",
     "text": [
      "Collecting mysql-connector-python-rf\n",
      "  Downloading mysql-connector-python-rf-2.2.2.tar.gz (11.9 MB)\n",
      "Building wheels for collected packages: mysql-connector-python-rf\n",
      "  Building wheel for mysql-connector-python-rf (setup.py): started\n",
      "  Building wheel for mysql-connector-python-rf (setup.py): finished with status 'done'\n",
      "  Created wheel for mysql-connector-python-rf: filename=mysql_connector_python_rf-2.2.2-cp38-cp38-win_amd64.whl size=249459 sha256=fd609d39adeac8974e4121c11f0872884a7442aa58c0fa3b30ddbf208e253b16\n",
      "  Stored in directory: c:\\users\\win10\\appdata\\local\\pip\\cache\\wheels\\f5\\66\\87\\6d9cef740fd440ef390930fdbe6c761dc1efef78ec94a288fd\n",
      "Successfully built mysql-connector-python-rf\n",
      "Installing collected packages: mysql-connector-python-rf\n",
      "Successfully installed mysql-connector-python-rf-2.2.2\n",
      "Note: you may need to restart the kernel to use updated packages.\n"
     ]
    }
   ],
   "source": [
    "!pip install mysql-connector-python-rf\n"
   ]
  },
  {
   "cell_type": "code",
   "execution_count": 10,
   "metadata": {
    "collapsed": true
   },
   "outputs": [
    {
     "name": "stderr",
     "output_type": "stream",
     "text": [
      "Getting uuid of QR code.\n",
      "Downloading QR code.\n",
      "Please scan the QR code to log in.\n",
      "Please press confirm on your phone.\n",
      "Loading the contact, this may take a little while.\n"
     ]
    },
    {
     "ename": "KeyError",
     "evalue": "'pass_ticket'",
     "output_type": "error",
     "traceback": [
      "\u001b[1;31m---------------------------------------------------------------------------\u001b[0m",
      "\u001b[1;31mKeyError\u001b[0m                                  Traceback (most recent call last)",
      "\u001b[1;32m<ipython-input-10-23d121292a29>\u001b[0m in \u001b[0;36m<module>\u001b[1;34m\u001b[0m\n\u001b[0;32m      5\u001b[0m \u001b[1;32mimport\u001b[0m \u001b[0mrequests\u001b[0m\u001b[1;33m\u001b[0m\u001b[1;33m\u001b[0m\u001b[0m\n\u001b[0;32m      6\u001b[0m \u001b[1;32mimport\u001b[0m \u001b[0mrandom\u001b[0m\u001b[1;33m\u001b[0m\u001b[1;33m\u001b[0m\u001b[0m\n\u001b[1;32m----> 7\u001b[1;33m \u001b[0mbot\u001b[0m \u001b[1;33m=\u001b[0m \u001b[0mBot\u001b[0m\u001b[1;33m(\u001b[0m\u001b[1;33m)\u001b[0m\u001b[1;33m\u001b[0m\u001b[1;33m\u001b[0m\u001b[0m\n\u001b[0m\u001b[0;32m      8\u001b[0m \u001b[1;31m# linux执行登陆请调用下面的这句\u001b[0m\u001b[1;33m\u001b[0m\u001b[1;33m\u001b[0m\u001b[1;33m\u001b[0m\u001b[0m\n\u001b[0;32m      9\u001b[0m \u001b[1;31m#bot = Bot(console_qr=2,cache_path=\"botoo.pkl\")\u001b[0m\u001b[1;33m\u001b[0m\u001b[1;33m\u001b[0m\u001b[1;33m\u001b[0m\u001b[0m\n",
      "\u001b[1;32mD:\\anaconda\\lib\\site-packages\\wxpy\\api\\bot.py\u001b[0m in \u001b[0;36m__init__\u001b[1;34m(self, cache_path, console_qr, qr_path, qr_callback, login_callback, logout_callback)\u001b[0m\n\u001b[0;32m     81\u001b[0m \u001b[1;33m\u001b[0m\u001b[0m\n\u001b[0;32m     82\u001b[0m         \u001b[1;32mtry\u001b[0m\u001b[1;33m:\u001b[0m\u001b[1;33m\u001b[0m\u001b[1;33m\u001b[0m\u001b[0m\n\u001b[1;32m---> 83\u001b[1;33m             self.core.auto_login(\n\u001b[0m\u001b[0;32m     84\u001b[0m                 \u001b[0mhotReload\u001b[0m\u001b[1;33m=\u001b[0m\u001b[0mbool\u001b[0m\u001b[1;33m(\u001b[0m\u001b[0mcache_path\u001b[0m\u001b[1;33m)\u001b[0m\u001b[1;33m,\u001b[0m \u001b[0mstatusStorageDir\u001b[0m\u001b[1;33m=\u001b[0m\u001b[0mcache_path\u001b[0m\u001b[1;33m,\u001b[0m\u001b[1;33m\u001b[0m\u001b[1;33m\u001b[0m\u001b[0m\n\u001b[0;32m     85\u001b[0m                 \u001b[0menableCmdQR\u001b[0m\u001b[1;33m=\u001b[0m\u001b[0mconsole_qr\u001b[0m\u001b[1;33m,\u001b[0m \u001b[0mpicDir\u001b[0m\u001b[1;33m=\u001b[0m\u001b[0mqr_path\u001b[0m\u001b[1;33m,\u001b[0m \u001b[0mqrCallback\u001b[0m\u001b[1;33m=\u001b[0m\u001b[0mqr_callback\u001b[0m\u001b[1;33m,\u001b[0m\u001b[1;33m\u001b[0m\u001b[1;33m\u001b[0m\u001b[0m\n",
      "\u001b[1;32mD:\\anaconda\\lib\\site-packages\\itchat\\components\\register.py\u001b[0m in \u001b[0;36mauto_login\u001b[1;34m(self, hotReload, statusStorageDir, enableCmdQR, picDir, qrCallback, loginCallback, exitCallback)\u001b[0m\n\u001b[0;32m     32\u001b[0m         \u001b[0mself\u001b[0m\u001b[1;33m.\u001b[0m\u001b[0mhotReloadDir\u001b[0m \u001b[1;33m=\u001b[0m \u001b[0mstatusStorageDir\u001b[0m\u001b[1;33m\u001b[0m\u001b[1;33m\u001b[0m\u001b[0m\n\u001b[0;32m     33\u001b[0m     \u001b[1;32melse\u001b[0m\u001b[1;33m:\u001b[0m\u001b[1;33m\u001b[0m\u001b[1;33m\u001b[0m\u001b[0m\n\u001b[1;32m---> 34\u001b[1;33m         self.login(enableCmdQR=enableCmdQR, picDir=picDir, qrCallback=qrCallback,\n\u001b[0m\u001b[0;32m     35\u001b[0m             loginCallback=loginCallback, exitCallback=exitCallback)\n\u001b[0;32m     36\u001b[0m \u001b[1;33m\u001b[0m\u001b[0m\n",
      "\u001b[1;32mD:\\anaconda\\lib\\site-packages\\itchat\\components\\login.py\u001b[0m in \u001b[0;36mlogin\u001b[1;34m(self, enableCmdQR, picDir, qrCallback, loginCallback, exitCallback)\u001b[0m\n\u001b[0;32m     64\u001b[0m     \u001b[0mlogger\u001b[0m\u001b[1;33m.\u001b[0m\u001b[0minfo\u001b[0m\u001b[1;33m(\u001b[0m\u001b[1;34m'Loading the contact, this may take a little while.'\u001b[0m\u001b[1;33m)\u001b[0m\u001b[1;33m\u001b[0m\u001b[1;33m\u001b[0m\u001b[0m\n\u001b[0;32m     65\u001b[0m     \u001b[0mself\u001b[0m\u001b[1;33m.\u001b[0m\u001b[0mweb_init\u001b[0m\u001b[1;33m(\u001b[0m\u001b[1;33m)\u001b[0m\u001b[1;33m\u001b[0m\u001b[1;33m\u001b[0m\u001b[0m\n\u001b[1;32m---> 66\u001b[1;33m     \u001b[0mself\u001b[0m\u001b[1;33m.\u001b[0m\u001b[0mshow_mobile_login\u001b[0m\u001b[1;33m(\u001b[0m\u001b[1;33m)\u001b[0m\u001b[1;33m\u001b[0m\u001b[1;33m\u001b[0m\u001b[0m\n\u001b[0m\u001b[0;32m     67\u001b[0m     \u001b[0mself\u001b[0m\u001b[1;33m.\u001b[0m\u001b[0mget_contact\u001b[0m\u001b[1;33m(\u001b[0m\u001b[1;32mTrue\u001b[0m\u001b[1;33m)\u001b[0m\u001b[1;33m\u001b[0m\u001b[1;33m\u001b[0m\u001b[0m\n\u001b[0;32m     68\u001b[0m     \u001b[1;32mif\u001b[0m \u001b[0mhasattr\u001b[0m\u001b[1;33m(\u001b[0m\u001b[0mloginCallback\u001b[0m\u001b[1;33m,\u001b[0m \u001b[1;34m'__call__'\u001b[0m\u001b[1;33m)\u001b[0m\u001b[1;33m:\u001b[0m\u001b[1;33m\u001b[0m\u001b[1;33m\u001b[0m\u001b[0m\n",
      "\u001b[1;32mD:\\anaconda\\lib\\site-packages\\itchat\\components\\login.py\u001b[0m in \u001b[0;36mshow_mobile_login\u001b[1;34m(self)\u001b[0m\n\u001b[0;32m    210\u001b[0m \u001b[1;32mdef\u001b[0m \u001b[0mshow_mobile_login\u001b[0m\u001b[1;33m(\u001b[0m\u001b[0mself\u001b[0m\u001b[1;33m)\u001b[0m\u001b[1;33m:\u001b[0m\u001b[1;33m\u001b[0m\u001b[1;33m\u001b[0m\u001b[0m\n\u001b[0;32m    211\u001b[0m     url = '%s/webwxstatusnotify?lang=zh_CN&pass_ticket=%s' % (\n\u001b[1;32m--> 212\u001b[1;33m         self.loginInfo['url'], self.loginInfo['pass_ticket'])\n\u001b[0m\u001b[0;32m    213\u001b[0m     data = {\n\u001b[0;32m    214\u001b[0m         \u001b[1;34m'BaseRequest'\u001b[0m  \u001b[1;33m:\u001b[0m \u001b[0mself\u001b[0m\u001b[1;33m.\u001b[0m\u001b[0mloginInfo\u001b[0m\u001b[1;33m[\u001b[0m\u001b[1;34m'BaseRequest'\u001b[0m\u001b[1;33m]\u001b[0m\u001b[1;33m,\u001b[0m\u001b[1;33m\u001b[0m\u001b[1;33m\u001b[0m\u001b[0m\n",
      "\u001b[1;31mKeyError\u001b[0m: 'pass_ticket'"
     ]
    }
   ],
   "source": [
    "# 微信定时任务\n",
    "from __future__ import unicode_literals\n",
    "from threading import Timer\n",
    "from wxpy import *\n",
    "import requests\n",
    "import random\n",
    "bot = Bot()\n",
    "# linux执行登陆请调用下面的这句\n",
    "#bot = Bot(console_qr=2,cache_path=\"botoo.pkl\")\n",
    "\n",
    "\n",
    "def get_news():\n",
    "    \"\"\"获取金山词霸每日一句，英文和翻译\"\"\"\n",
    "    url = \"http://open.iciba.com/dsapi/\"\n",
    "    r = requests.get(url)\n",
    "    content = r.json()['content']\n",
    "    note = r.json()['note']\n",
    "    return content, note\n",
    "\n",
    "\n",
    "def send_news():\n",
    "    try:\n",
    "        contents = get_news()\n",
    "        # 你朋友的微信名称，不是备注，也不是微信帐号。\n",
    "        my_friend = bot.friends().search('武汉苏宁市场部陈宪')[0]\n",
    "        my_friend.send(contents[0])\n",
    "        my_friend.send(contents[1])\n",
    "        my_friend.send(u\"晚安\")\n",
    "        # 每86400秒（1天），发送1次\n",
    "        # 为了防止时间太固定，于是决定对其加上随机数\n",
    "        ran_int = random.randint(0, 100)\n",
    "        t = Timer(1, send_news)\n",
    "        t.start()\n",
    "    except:\n",
    "        # 你的微信名称，不是微信帐号。\n",
    "        my_friend = bot.friends().search('威风大侠')[0]\n",
    "        my_friend.send(u\"今天消息发送失败了\")\n",
    "        \n",
    "if __name__ == \"__main__\":\n",
    "    send_news()\n",
    "    \n",
    "# KeyError: 'pass_ticket'\n",
    "# wxpy是根据网页版微信的接口封装的库。需要网页版可以登的微信号  "
   ]
  },
  {
   "cell_type": "code",
   "execution_count": 7,
   "metadata": {
    "collapsed": true
   },
   "outputs": [
    {
     "name": "stdout",
     "output_type": "stream",
     "text": [
      "Collecting wxpy\n",
      "  Downloading wxpy-0.3.9.8.tar.gz (45 kB)\n",
      "Collecting itchat==1.2.32\n",
      "  Downloading itchat-1.2.32-py2.py3-none-any.whl (34 kB)\n",
      "Requirement already satisfied: requests in d:\\anaconda\\lib\\site-packages (from wxpy) (2.24.0)\n",
      "Requirement already satisfied: future in d:\\anaconda\\lib\\site-packages (from wxpy) (0.18.2)\n",
      "Collecting pyqrcode\n",
      "  Downloading PyQRCode-1.2.1.tar.gz (36 kB)\n",
      "Collecting pypng\n",
      "  Downloading pypng-0.0.20.tar.gz (649 kB)\n",
      "Requirement already satisfied: certifi>=2017.4.17 in d:\\anaconda\\lib\\site-packages (from requests->wxpy) (2020.6.20)\n",
      "Requirement already satisfied: idna<3,>=2.5 in d:\\anaconda\\lib\\site-packages (from requests->wxpy) (2.10)\n",
      "Requirement already satisfied: chardet<4,>=3.0.2 in d:\\anaconda\\lib\\site-packages (from requests->wxpy) (3.0.4)\n",
      "Requirement already satisfied: urllib3!=1.25.0,!=1.25.1,<1.26,>=1.21.1 in d:\\anaconda\\lib\\site-packages (from requests->wxpy) (1.25.11)\n",
      "Building wheels for collected packages: wxpy, pyqrcode, pypng\n",
      "  Building wheel for wxpy (setup.py): started\n",
      "  Building wheel for wxpy (setup.py): finished with status 'done'\n",
      "  Created wheel for wxpy: filename=wxpy-0.3.9.8-py3-none-any.whl size=63028 sha256=961e3879c80be045801b375a3c1ecec9ba7499d449712f8d2bd63f89c19c374c\n",
      "  Stored in directory: c:\\users\\win10\\appdata\\local\\pip\\cache\\wheels\\ab\\61\\29\\1d5220438a51bb2e26d27fdaf6b0d446023f125cd4e87001a9\n",
      "  Building wheel for pyqrcode (setup.py): started\n",
      "  Building wheel for pyqrcode (setup.py): finished with status 'done'\n",
      "  Created wheel for pyqrcode: filename=PyQRCode-1.2.1-py3-none-any.whl size=36250 sha256=a4981c28f17e914948c438df56ea56681cf504c974cb916e8999fd7ace7a0932\n",
      "  Stored in directory: c:\\users\\win10\\appdata\\local\\pip\\cache\\wheels\\e1\\1a\\48\\c9d6b7295d3750a8d38001a2a3e86d8816e2e90964a0cc73cd\n",
      "  Building wheel for pypng (setup.py): started\n",
      "  Building wheel for pypng (setup.py): finished with status 'done'\n",
      "  Created wheel for pypng: filename=pypng-0.0.20-py3-none-any.whl size=67167 sha256=c76d516f04a873e71bdbb44f45b16e9f7eebb8dacdd7af326271f42f1507ebad\n",
      "  Stored in directory: c:\\users\\win10\\appdata\\local\\pip\\cache\\wheels\\3a\\ad\\91\\4f6a5e9f3db79c28e71e7b59099dce8a75618a34ff415d44b1\n",
      "Successfully built wxpy pyqrcode pypng\n",
      "Installing collected packages: pyqrcode, pypng, itchat, wxpy\n",
      "Successfully installed itchat-1.2.32 pypng-0.0.20 pyqrcode-1.2.1 wxpy-0.3.9.8\n",
      "Requirement already satisfied: requests in d:\\anaconda\\lib\\site-packages (2.24.0)\n",
      "Requirement already satisfied: chardet<4,>=3.0.2 in d:\\anaconda\\lib\\site-packages (from requests) (3.0.4)\n",
      "Requirement already satisfied: certifi>=2017.4.17 in d:\\anaconda\\lib\\site-packages (from requests) (2020.6.20)\n",
      "Requirement already satisfied: urllib3!=1.25.0,!=1.25.1,<1.26,>=1.21.1 in d:\\anaconda\\lib\\site-packages (from requests) (1.25.11)\n",
      "Requirement already satisfied: idna<3,>=2.5 in d:\\anaconda\\lib\\site-packages (from requests) (2.10)\n"
     ]
    }
   ],
   "source": [
    "!pip install wxpy\n",
    "!pip install requests"
   ]
  },
  {
   "cell_type": "code",
   "execution_count": 1,
   "metadata": {
    "collapsed": true
   },
   "outputs": [
    {
     "name": "stdout",
     "output_type": "stream",
     "text": [
      "hello\n",
      "2021-04-27 16:25:20 定时发送测试\n",
      "hello\n",
      "2021-04-27 16:25:22 定时发送测试\n",
      "hello\n",
      "2021-04-27 16:25:24 定时发送测试\n"
     ]
    },
    {
     "ename": "KeyboardInterrupt",
     "evalue": "",
     "output_type": "error",
     "traceback": [
      "\u001b[1;31m---------------------------------------------------------------------------\u001b[0m",
      "\u001b[1;31mKeyboardInterrupt\u001b[0m                         Traceback (most recent call last)",
      "\u001b[1;32m<ipython-input-1-e7122709c50d>\u001b[0m in \u001b[0;36m<module>\u001b[1;34m\u001b[0m\n\u001b[0;32m      8\u001b[0m     \u001b[0msubject\u001b[0m \u001b[1;33m=\u001b[0m \u001b[0mtime\u001b[0m\u001b[1;33m.\u001b[0m\u001b[0mstrftime\u001b[0m\u001b[1;33m(\u001b[0m\u001b[1;34m\"%Y-%m-%d %H:%M:%S\"\u001b[0m\u001b[1;33m,\u001b[0m \u001b[0mtime\u001b[0m\u001b[1;33m.\u001b[0m\u001b[0mlocaltime\u001b[0m\u001b[1;33m(\u001b[0m\u001b[1;33m)\u001b[0m\u001b[1;33m)\u001b[0m \u001b[1;33m+\u001b[0m \u001b[1;34m\" 定时发送测试\"\u001b[0m\u001b[1;33m\u001b[0m\u001b[1;33m\u001b[0m\u001b[0m\n\u001b[0;32m      9\u001b[0m     \u001b[0mprint\u001b[0m\u001b[1;33m(\u001b[0m\u001b[0msubject\u001b[0m\u001b[1;33m)\u001b[0m\u001b[1;33m\u001b[0m\u001b[1;33m\u001b[0m\u001b[0m\n\u001b[1;32m---> 10\u001b[1;33m     \u001b[0mtime\u001b[0m\u001b[1;33m.\u001b[0m\u001b[0msleep\u001b[0m\u001b[1;33m(\u001b[0m\u001b[1;36m2\u001b[0m\u001b[1;33m)\u001b[0m \u001b[1;31m# 因为以秒定时，所以暂停2秒，使之不会在1秒内执行多次\u001b[0m\u001b[1;33m\u001b[0m\u001b[1;33m\u001b[0m\u001b[0m\n\u001b[0m",
      "\u001b[1;31mKeyboardInterrupt\u001b[0m: "
     ]
    }
   ],
   "source": [
    "#定时任务\n",
    "import time\n",
    "while True:\n",
    "  time_now = time.strftime(\"%S\", time.localtime()) # 刷新\n",
    "  if time_now >= \"2\": #此处设置每天定时的时间\n",
    "    # 此处3行替换为需要执行的动作\n",
    "    print(\"hello\")\n",
    "    subject = time.strftime(\"%Y-%m-%d %H:%M:%S\", time.localtime()) + \" 定时发送测试\"\n",
    "    print(subject)\n",
    "    time.sleep(2) # 因为以秒定时，所以暂停2秒，使之不会在1秒内执行多次"
   ]
  },
  {
   "cell_type": "code",
   "execution_count": 9,
   "metadata": {},
   "outputs": [
    {
     "name": "stdout",
     "output_type": "stream",
     "text": [
      "百度一下，你就知道\n"
     ]
    }
   ],
   "source": [
    "#selenium打开浏览器搜索\n",
    "from selenium import webdriver\n",
    "import time\n",
    " \n",
    "driver = webdriver.Chrome()\n",
    "driver.get(\"http://www.baidu.com\")\n",
    "print(driver.title)\n",
    "driver.find_element_by_id(\"kw\").send_keys(\"selenium\")\n",
    "driver.find_element_by_id(\"su\").click()\n",
    "time.sleep(3)\n",
    "driver.back() #回到上一个页面\n",
    "driver.maximize_window() #浏览器窗口最大化\n",
    "driver.refresh() #重新加载页面\n",
    "driver.get_screenshot_as_file(r\"C:\\Users\\win10\\Desktop\\shot1.jpg\") \n",
    "time.sleep(3)\n",
    "driver.close()\n",
    "# Message: 'chromedriver' executable needs to be in PATH. Please see\n",
    "# 解决：chrome://version\n",
    "# 安装对应版本chromedriver.exe，放进anaconda/script文件夹里面"
   ]
  },
  {
   "cell_type": "code",
   "execution_count": 3,
   "metadata": {},
   "outputs": [
    {
     "name": "stdout",
     "output_type": "stream",
     "text": [
      "Collecting selenium\n",
      "  Downloading selenium-3.141.0-py2.py3-none-any.whl (904 kB)\n",
      "Requirement already satisfied: urllib3 in d:\\anaconda\\lib\\site-packages (from selenium) (1.25.11)\n",
      "Installing collected packages: selenium\n",
      "Successfully installed selenium-3.141.0\n"
     ]
    }
   ],
   "source": [
    "!pip install selenium"
   ]
  },
  {
   "cell_type": "code",
   "execution_count": 8,
   "metadata": {},
   "outputs": [
    {
     "ename": "ModuleNotFoundError",
     "evalue": "No module named 'pyHook'",
     "output_type": "error",
     "traceback": [
      "\u001b[1;31m---------------------------------------------------------------------------\u001b[0m",
      "\u001b[1;31mModuleNotFoundError\u001b[0m                       Traceback (most recent call last)",
      "\u001b[1;32m<ipython-input-8-a2159b7c8899>\u001b[0m in \u001b[0;36m<module>\u001b[1;34m\u001b[0m\n\u001b[0;32m      1\u001b[0m \u001b[1;31m#鼠标\u001b[0m\u001b[1;33m\u001b[0m\u001b[1;33m\u001b[0m\u001b[1;33m\u001b[0m\u001b[0m\n\u001b[0;32m      2\u001b[0m \u001b[1;32mfrom\u001b[0m \u001b[0mpykeyboard\u001b[0m \u001b[1;32mimport\u001b[0m \u001b[1;33m*\u001b[0m\u001b[1;33m\u001b[0m\u001b[1;33m\u001b[0m\u001b[0m\n\u001b[1;32m----> 3\u001b[1;33m \u001b[1;32mfrom\u001b[0m \u001b[0mpymouse\u001b[0m \u001b[1;32mimport\u001b[0m \u001b[1;33m*\u001b[0m\u001b[1;33m\u001b[0m\u001b[1;33m\u001b[0m\u001b[0m\n\u001b[0m\u001b[0;32m      4\u001b[0m \u001b[0mm\u001b[0m\u001b[1;33m=\u001b[0m\u001b[0mPyMouse\u001b[0m\u001b[1;33m(\u001b[0m\u001b[1;33m)\u001b[0m\u001b[1;33m\u001b[0m\u001b[1;33m\u001b[0m\u001b[0m\n\u001b[0;32m      5\u001b[0m \u001b[0mk\u001b[0m\u001b[1;33m=\u001b[0m\u001b[0mPyKeyboard\u001b[0m\u001b[1;33m(\u001b[0m\u001b[1;33m)\u001b[0m\u001b[1;33m\u001b[0m\u001b[1;33m\u001b[0m\u001b[0m\n",
      "\u001b[1;32mD:\\anaconda\\lib\\site-packages\\pymouse\\__init__.py\u001b[0m in \u001b[0;36m<module>\u001b[1;34m\u001b[0m\n\u001b[0;32m     90\u001b[0m \u001b[1;33m\u001b[0m\u001b[0m\n\u001b[0;32m     91\u001b[0m \u001b[1;32melif\u001b[0m \u001b[0msys\u001b[0m\u001b[1;33m.\u001b[0m\u001b[0mplatform\u001b[0m \u001b[1;33m==\u001b[0m \u001b[1;34m'win32'\u001b[0m\u001b[1;33m:\u001b[0m\u001b[1;33m\u001b[0m\u001b[1;33m\u001b[0m\u001b[0m\n\u001b[1;32m---> 92\u001b[1;33m     \u001b[1;32mfrom\u001b[0m \u001b[0mpymouse\u001b[0m\u001b[1;33m.\u001b[0m\u001b[0mwindows\u001b[0m \u001b[1;32mimport\u001b[0m \u001b[0mPyMouse\u001b[0m\u001b[1;33m,\u001b[0m \u001b[0mPyMouseEvent\u001b[0m\u001b[1;33m\u001b[0m\u001b[1;33m\u001b[0m\u001b[0m\n\u001b[0m\u001b[0;32m     93\u001b[0m \u001b[1;33m\u001b[0m\u001b[0m\n\u001b[0;32m     94\u001b[0m \u001b[1;32melse\u001b[0m\u001b[1;33m:\u001b[0m\u001b[1;33m\u001b[0m\u001b[1;33m\u001b[0m\u001b[0m\n",
      "\u001b[1;32mD:\\anaconda\\lib\\site-packages\\pymouse\\windows.py\u001b[0m in \u001b[0;36m<module>\u001b[1;34m\u001b[0m\n\u001b[0;32m     21\u001b[0m \u001b[1;32mfrom\u001b[0m \u001b[0mwin32api\u001b[0m \u001b[1;32mimport\u001b[0m \u001b[0mGetSystemMetrics\u001b[0m\u001b[1;33m\u001b[0m\u001b[1;33m\u001b[0m\u001b[0m\n\u001b[0;32m     22\u001b[0m \u001b[1;32mfrom\u001b[0m \u001b[0mpymouse\u001b[0m \u001b[1;32mimport\u001b[0m \u001b[0mPyMouseMeta\u001b[0m\u001b[1;33m,\u001b[0m \u001b[0mPyMouseEventMeta\u001b[0m\u001b[1;33m\u001b[0m\u001b[1;33m\u001b[0m\u001b[0m\n\u001b[1;32m---> 23\u001b[1;33m \u001b[1;32mimport\u001b[0m \u001b[0mpythoncom\u001b[0m\u001b[1;33m,\u001b[0m \u001b[0mpyHook\u001b[0m\u001b[1;33m\u001b[0m\u001b[1;33m\u001b[0m\u001b[0m\n\u001b[0m\u001b[0;32m     24\u001b[0m \u001b[1;32mfrom\u001b[0m \u001b[0mtime\u001b[0m \u001b[1;32mimport\u001b[0m \u001b[0msleep\u001b[0m\u001b[1;33m\u001b[0m\u001b[1;33m\u001b[0m\u001b[0m\n\u001b[0;32m     25\u001b[0m \u001b[1;33m\u001b[0m\u001b[0m\n",
      "\u001b[1;31mModuleNotFoundError\u001b[0m: No module named 'pyHook'"
     ]
    }
   ],
   "source": [
    "#鼠标\n",
    "from pykeyboard import *\n",
    "from pymouse import *\n",
    "m=PyMouse()\n",
    "k=PyKeyboard()\n",
    "print(m.position())\n",
    "m.click(1157,470)\n",
    "k.type_string('123456')\n",
    "k.tap_key(k.enter_key)"
   ]
  },
  {
   "cell_type": "code",
   "execution_count": 11,
   "metadata": {
    "scrolled": true
   },
   "outputs": [
    {
     "name": "stdout",
     "output_type": "stream",
     "text": [
      "Requirement already satisfied: pymouse in d:\\anaconda\\lib\\site-packages (1.0)\n",
      "Collecting PyUserInput\n",
      "  Downloading PyUserInput-0.1.11.tar.gz (28 kB)\n"
     ]
    },
    {
     "name": "stderr",
     "output_type": "stream",
     "text": [
      "ERROR: Could not find a version that satisfies the requirement pyHook (from PyUserInput) (from versions: none)\n",
      "ERROR: No matching distribution found for pyHook (from PyUserInput)\n"
     ]
    }
   ],
   "source": [
    "!pip install pymouse\n",
    "!pip install PyUserInput"
   ]
  },
  {
   "cell_type": "code",
   "execution_count": 6,
   "metadata": {},
   "outputs": [
    {
     "name": "stderr",
     "output_type": "stream",
     "text": [
      "ERROR: Could not find a version that satisfies the requirement pyhook (from versions: none)\n",
      "ERROR: No matching distribution found for pyhook\n"
     ]
    }
   ],
   "source": []
  },
  {
   "cell_type": "code",
   "execution_count": null,
   "metadata": {},
   "outputs": [],
   "source": []
  }
 ],
 "metadata": {
  "kernelspec": {
   "display_name": "Python 3",
   "language": "python",
   "name": "python3"
  },
  "language_info": {
   "codemirror_mode": {
    "name": "ipython",
    "version": 3
   },
   "file_extension": ".py",
   "mimetype": "text/x-python",
   "name": "python",
   "nbconvert_exporter": "python",
   "pygments_lexer": "ipython3",
   "version": "3.8.5"
  }
 },
 "nbformat": 4,
 "nbformat_minor": 4
}
