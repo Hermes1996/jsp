{
 "cells": [
  {
   "cell_type": "code",
   "execution_count": null,
   "metadata": {},
   "outputs": [],
   "source": [
    "#写一个图形界面并打包\n",
    "import tkinter as tk\n",
    "import random\n",
    "def genarate_random():\n",
    "    return str(random.randint(1,100))\n",
    "def control_entry():\n",
    "    entry_random.delete(0,tk.END)\n",
    "    entry_random.insert(0,genarate_random())\n",
    "if __name__ == '__main__':\n",
    "    root=tk.Tk()\n",
    "    root.title('生成随机数')\n",
    "    root.geometry('250x100')\n",
    "    label_random=tk.Label(root,text='生成1-100以内的随机数')\n",
    "    entry_random=tk.Entry(root)#输入框\n",
    "    button_gen=tk.Button(\n",
    "        root,\n",
    "        text='生产随机数',\n",
    "        command=control_entry)\n",
    "    #三个控件从上往下布局\n",
    "    label_random.pack()\n",
    "    entry_random.pack()\n",
    "    button_gen.pack()\n",
    "    root.mainloop()"
   ]
  }
 ],
 "metadata": {
  "kernelspec": {
   "display_name": "Python 3",
   "language": "python",
   "name": "python3"
  },
  "language_info": {
   "codemirror_mode": {
    "name": "ipython",
    "version": 3
   },
   "file_extension": ".py",
   "mimetype": "text/x-python",
   "name": "python",
   "nbconvert_exporter": "python",
   "pygments_lexer": "ipython3",
   "version": "3.7.0"
  }
 },
 "nbformat": 4,
 "nbformat_minor": 2
}
