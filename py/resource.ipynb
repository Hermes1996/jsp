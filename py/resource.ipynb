{
 "cells": [
  {
   "cell_type": "code",
   "execution_count": 5,
   "metadata": {},
   "outputs": [
    {
     "name": "stdout",
     "output_type": "stream",
     "text": [
      "wifi\n",
      "5G\n",
      "5G\n"
     ]
    }
   ],
   "source": [
    "#循环变量泄露\n",
    "x='8G'\n",
    "for x in ['wifi','4G','5G']:\n",
    "    if x == 'wifi':\n",
    "        print(x)\n",
    "print(x)#会保留遍历完的最后一个值,即使声明全局变量，所以要注意循环下面的命名\n",
    "print(x)"
   ]
  },
  {
   "cell_type": "code",
   "execution_count": 21,
   "metadata": {},
   "outputs": [
    {
     "name": "stdout",
     "output_type": "stream",
     "text": [
      "(0, 3)\n",
      "(11, 14)\n",
      "电话号码是:  2004-959-559 \n",
      "电话号码是 :  2004959559\n",
      "A46G8HFD1134\n",
      "<re.Match object; span=(3, 5), match='12'>\n",
      "None\n",
      "['123', '456'] \n",
      " ['88', '12']\n",
      "12\n",
      "32\n",
      "43\n",
      "3\n",
      "['', 'runoob', 'runoob', 'runoob', ''] \n",
      " ['', 'runoob, runoob, runoob.']\n"
     ]
    }
   ],
   "source": [
    "#正则match,search,sub,findall,finditer\n",
    "import re\n",
    "#span()返回的是匹配到的区间下标\n",
    "print(re.match('www', 'www.runoob.www').span())   # 尝试从字符串的起始位置匹配一个模式，如果不是起始位置匹配成功的话，match()就返回none。none.span会报错 \n",
    "print(re.search('www', 'com.runoob.www').span()) # 扫描整个字符串并返回第一个成功的匹配。\n",
    "\n",
    "phone = \"2004-959-559 # 这是一个国外电话号码\"\n",
    "# 删除字符串中的 Python注释 \n",
    "num = re.sub(r'#.*$', \"\", phone)\n",
    "print (\"电话号码是: \", num)\n",
    "# 删除非数字(-)的字符串 \n",
    "num = re.sub(r'\\D', \"\", phone)\n",
    "print (\"电话号码是 : \", num)\n",
    "\n",
    "# 将匹配的数字乘以 2\n",
    "def double(matched):\n",
    "    value = int(matched.group('value'))\n",
    "    return str(value * 2)\n",
    "s = 'A23G4HFD567'\n",
    "print(re.sub('(?P<value>\\d+)', double, s))\n",
    "\n",
    "# compile 函数用于编译正则表达式，生成一个正则表达式（ Pattern ）对象，供 match() 和 search() 这两个函数使用。\n",
    "pattern = re.compile(r'\\d+')                    # 用于匹配至少一个数字\n",
    "m = pattern.search('one12twothree34four')        # 查找头部，没有匹配\n",
    "print (m)\n",
    "m = pattern.match('one12twothree34four', 2, 10) # 从'e'的位置开始匹配，没有匹配\n",
    "print (m)\n",
    "\n",
    "pattern = re.compile(r'\\d+')   # 查找数字\n",
    "result1 = pattern.findall('runoob 123 google 456')\n",
    "result2 = pattern.findall('run88oob123google456', 0, 10)\n",
    "print(result1,'\\n',result2)\n",
    "\n",
    "# finditer和 findall 类似，在字符串中找到正则表达式所匹配的所有子串，并把它们作为一个迭代器返回\n",
    "it = re.finditer(r\"\\d+\",\"12a32bc43jf3\") \n",
    "for match in it: \n",
    "    print (match.group())\n",
    "\n",
    "# split 方法按照能够匹配的子串将字符串分割后返回列表\n",
    "list1=re.split('\\W+', ' runoob, runoob, runoob.')      \n",
    "list2=re.split('\\W+', ' runoob, runoob, runoob.', 1)    \n",
    "print(list1,'\\n',list2)"
   ]
  },
  {
   "cell_type": "code",
   "execution_count": null,
   "metadata": {},
   "outputs": [],
   "source": [
    "模式\t描述\n",
    "\\w\t匹配字母数字及下划线\n",
    "\\W\t匹配非字母数字及下划线\n",
    "\\d\t匹配任意数字，等价于 [0-9].\n",
    "\\D\t匹配任意非数字\n",
    "\n",
    "^\t匹配字符串的开头\n",
    "$\t匹配字符串的末尾。\n",
    ".\t匹配任意字符，除了换行符，\n",
    "\n",
    "[...]\t用来表示一组字符,单独列出：[amk] 匹配 'a'，'m'或'k'\n",
    "[^...]\t不在[]中的字符：[^abc] 匹配除了a,b,c之外的字符。\n",
    "[a-z]{3}匹配3个字母\n",
    "re*\t匹配0个或多个的表达式。\n",
    "re+\t匹配1个或多个的表达式。\n",
    "re?\t匹配0个或1个由前面的正则表达式定义的片段，非贪婪方式\n",
    "centos(?!7) 查找centos，且后面不含7的\n",
    "industr(?:y|ies)”就是一个比“industry|industries”更简略的表达式。"
   ]
  },
  {
   "cell_type": "code",
   "execution_count": 67,
   "metadata": {},
   "outputs": [
    {
     "name": "stdout",
     "output_type": "stream",
     "text": [
      "matchObj.group() :  Cats are smarter than dogs\n",
      "matchObj.group(1) :  Cats\n",
      "matchObj.group(2) :  smarter\n",
      "['zhuwjwh@outlook.com', '123456@qq.org']\n",
      "身份证：342623198910235163,手机号码：13987692110\n",
      "['https://www.python.org/', 'https://www.baidu.com,']\n"
     ]
    }
   ],
   "source": [
    "#分组\n",
    "import re\n",
    "line = \"Cats are smarter than dogs\"\n",
    "matchObj = re.match( r'(.*) are (.*?) .*', line)\n",
    "if matchObj:\n",
    "    print (\"matchObj.group() : \", matchObj.group())\n",
    "    print (\"matchObj.group(1) : \", matchObj.group(1))\n",
    "    #非贪婪模式，(.*?)匹配到后面的第一个空格结束\n",
    "    print (\"matchObj.group(2) : \", matchObj.group(2))\n",
    "else:\n",
    "    print (\"No match!!\")\n",
    "#邮箱\n",
    "pattern = re.compile(r\"\\w+?@\\w+?\\.[a-zA-Z]{3}\",re.A)\n",
    "#r针对\\n,\\t以及路径\\不转义，正则特殊字符加\\\n",
    "#python3默认unicode字符集支持中文，加上re.A匹配ASCII码\n",
    "strs = '我的私人邮箱是zhuwjwh@outlook.com，公司邮箱是123456@qq.org，麻烦登记一下？'\n",
    "result = pattern.findall(strs)\n",
    "print(result)\n",
    "\n",
    "#身份证和手机号\n",
    "#第17位数字表示性别：奇数表示男性，偶数表示女性；\n",
    "pattern = re.compile(r\"\\d{17}[0-9X]\")\n",
    "pattern2 =re.compile(r\"[\\u4E00-\\u9FA5](1\\d{10})\")\n",
    "strs = '小明的身份证号码是342623198910235163，手机号是13987692110'\n",
    "ID = pattern.findall(strs)\n",
    "phone = pattern2.findall(strs)\n",
    "for ids,p in zip(ID,phone): \n",
    "    print(\"身份证：\"+ids+\",手机号码：\"+p)\n",
    "    \n",
    "#域名\n",
    "pattern = re.compile(r\"https:\\/\\/.+?(?:,|\\/|[\\u4E00-\\u9FA5])\")\n",
    "strs = 'Python官网的网址是https://www.python.org/,百度网址为https://www.baidu.com,'\n",
    "result = pattern.findall(strs)\n",
    "print(result)\n",
    "\n"
   ]
  },
  {
   "cell_type": "code",
   "execution_count": 69,
   "metadata": {},
   "outputs": [
    {
     "name": "stdout",
     "output_type": "stream",
     "text": [
      "<title>\n",
      " 百度一下，你就知道\n",
      "</title>\n",
      "<a class=\"mnav\" href=\"http://news.baidu.com\" name=\"tj_trnews\">新闻</a> {'href': 'http://news.baidu.com', 'name': 'tj_trnews', 'class': ['mnav']} 新闻\n",
      "tj_trnews\n",
      "<meta content=\"text/html;charset=utf-8\" http-equiv=\"content-type\"/>\n",
      "<meta content=\"text/html;charset=utf-8\" http-equiv=\"content-type\"/>\n",
      "<meta content=\"IE=Edge\" http-equiv=\"X-UA-Compatible\"/>\n",
      "<meta content=\"always\" name=\"referrer\"/>\n",
      "<link href=\"http://s1.bdstatic.com/r/www/cache/bdorz/baidu.min.css\" rel=\"stylesheet\" type=\"text/css\"/>\n",
      "<title>百度一下，你就知道</title>\n",
      "<meta content=\"text/html;charset=utf-8\" http-equiv=\"content-type\"/>\n",
      "<meta content=\"IE=Edge\" http-equiv=\"X-UA-Compatible\"/>\n",
      "<meta content=\"always\" name=\"referrer\"/>\n",
      "<link href=\"http://s1.bdstatic.com/r/www/cache/bdorz/baidu.min.css\" rel=\"stylesheet\" type=\"text/css\"/>\n",
      "<title>百度一下，你就知道</title>\n",
      "百度一下，你就知道\n",
      "[<title>百度一下，你就知道</title>, <a class=\"mnav\" href=\"http://news.baidu.com\" name=\"tj_trnews\">新闻</a>, <a class=\"mnav\" href=\"http://www.hao123.com\" name=\"tj_trhao123\">hao123</a>, <a class=\"mnav\" href=\"http://map.baidu.com\" name=\"tj_trmap\">地图</a>, <a class=\"mnav\" href=\"http://v.baidu.com\" name=\"tj_trvideo\">视频</a>, <a class=\"mnav\" href=\"http://tieba.baidu.com\" name=\"tj_trtieba\">贴吧</a>, <a class=\"lb\" href=\"http://www.baidu.com/bdorz/login.gif?login&amp;tpl=mn&amp;u=http%3A%2F%2Fwww.baidu.com%2f%3fbdorz_come%3d1\" name=\"tj_login\">登录</a>, <a class=\"bri\" href=\"//www.baidu.com/more/\" name=\"tj_briicon\" style=\"display: block;\">更多产品</a>, <a href=\"http://home.baidu.com\">关于百度</a>, <a href=\"http://ir.baidu.com\">About Baidu</a>, <a href=\"http://www.baidu.com/duty/\">使用百度前必读</a>, <a class=\"cp-feedback\" href=\"http://jianyi.baidu.com/\">意见反馈</a>]\n",
      "[<a class=\"mnav\" href=\"http://news.baidu.com\" name=\"tj_trnews\">新闻</a>, <a class=\"mnav\" href=\"http://www.hao123.com\" name=\"tj_trhao123\">hao123</a>, <a class=\"mnav\" href=\"http://map.baidu.com\" name=\"tj_trmap\">地图</a>, <a class=\"mnav\" href=\"http://v.baidu.com\" name=\"tj_trvideo\">视频</a>, <a class=\"mnav\" href=\"http://tieba.baidu.com\" name=\"tj_trtieba\">贴吧</a>]\n",
      "['百度一下，你就知道']\n"
     ]
    }
   ],
   "source": [
    "#beautifulSoup4\n",
    "import requests,re\n",
    "from bs4 import BeautifulSoup\n",
    "response = requests.get('http://www.baidu.com/')\n",
    "response.encoding = response.apparent_encoding\n",
    "#print(response.encoding) 'utf-8'\n",
    "soup = BeautifulSoup(response.text, \"html.parser\")\n",
    "print (soup.title.prettify())\n",
    "print(soup.a,soup.a.attrs,soup.a.string)#prettify()格式化，attrs获取属性和属性值；string为标签里面内容\n",
    "print(soup.a.attrs['name'])\n",
    "print(soup.head.contents[0])#下面子节点以列表输出,可指定元素指标\n",
    "for child in soup.head.children: #子节点list迭代对象\n",
    "    print(child)\n",
    "for child in soup.head.descendants:#子-孙节点-内容，递归循环输出\n",
    "    print(child)\n",
    "print(soup.find_all([\"a\", \"title\"]))\n",
    "print(soup.find_all(class_=\"mnav\"))   \n",
    "print(soup.find_all(text=\"百度一下，你就知道\"))"
   ]
  },
  {
   "cell_type": "code",
   "execution_count": null,
   "metadata": {},
   "outputs": [],
   "source": []
  }
 ],
 "metadata": {
  "kernelspec": {
   "display_name": "Python 3",
   "language": "python",
   "name": "python3"
  },
  "language_info": {
   "codemirror_mode": {
    "name": "ipython",
    "version": 3
   },
   "file_extension": ".py",
   "mimetype": "text/x-python",
   "name": "python",
   "nbconvert_exporter": "python",
   "pygments_lexer": "ipython3",
   "version": "3.7.0"
  }
 },
 "nbformat": 4,
 "nbformat_minor": 2
}
