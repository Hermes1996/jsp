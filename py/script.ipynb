{
 "cells": [
  {
   "cell_type": "code",
   "execution_count": 1,
   "metadata": {},
   "outputs": [
    {
     "name": "stdout",
     "output_type": "stream",
     "text": [
      "1\n",
      "1\n",
      "2\n",
      "3\n",
      "5\n"
     ]
    }
   ],
   "source": [
    "#yield可迭代返回值相当于list\n",
    "def fab(max): \n",
    "    n, a, b = 0, 0, 1 \n",
    "    while n < max: \n",
    "        yield b    \n",
    "        a, b = b, a + b \n",
    "        n = n + 1\n",
    " \n",
    "for n in fab(5): \n",
    "    print (n)\n"
   ]
  },
  {
   "cell_type": "code",
   "execution_count": 3,
   "metadata": {},
   "outputs": [
    {
     "name": "stderr",
     "output_type": "stream",
     "text": [
      "Source path:... <ipython-input-3-a41d39bd9782>\n",
      "Starting var:.. number = 6\n",
      "17:56:20.567728 call         3 def number_to_bits(number):\n",
      "17:56:20.569722 line         4     if number:\n",
      "17:56:20.569722 line         5         bits = []\n",
      "New var:....... bits = []\n",
      "17:56:20.569722 line         6         while number:\n",
      "17:56:20.569722 line         7             number, remainder = divmod(number, 2)\n",
      "Modified var:.. number = 3\n",
      "New var:....... remainder = 0\n",
      "17:56:20.569722 line         8             bits.insert(0, remainder)\n",
      "Modified var:.. bits = [0]\n",
      "17:56:20.569722 line         6         while number:\n",
      "17:56:20.569722 line         7             number, remainder = divmod(number, 2)\n",
      "Modified var:.. number = 1\n",
      "Modified var:.. remainder = 1\n",
      "17:56:20.569722 line         8             bits.insert(0, remainder)\n",
      "Modified var:.. bits = [1, 0]\n",
      "17:56:20.569722 line         6         while number:\n",
      "17:56:20.569722 line         7             number, remainder = divmod(number, 2)\n",
      "Modified var:.. number = 0\n",
      "17:56:20.569722 line         8             bits.insert(0, remainder)\n",
      "Modified var:.. bits = [1, 1, 0]\n",
      "17:56:20.570719 line         6         while number:\n",
      "17:56:20.570719 line         9         return bits\n",
      "17:56:20.570719 return       9         return bits\n",
      "Return value:.. [1, 1, 0]\n",
      "Elapsed time: 00:00:00.002991\n"
     ]
    },
    {
     "data": {
      "text/plain": [
       "[1, 1, 0]"
      ]
     },
     "execution_count": 3,
     "metadata": {},
     "output_type": "execute_result"
    }
   ],
   "source": [
    "import pysnooper\n",
    "@pysnooper.snoop()\n",
    "def number_to_bits(number):\n",
    "    if number:\n",
    "        bits = []\n",
    "        while number:\n",
    "            number, remainder = divmod(number, 2)\n",
    "            bits.insert(0, remainder)\n",
    "        return bits\n",
    "    else:\n",
    "        return [0]\n",
    "number_to_bits(6)"
   ]
  },
  {
   "cell_type": "code",
   "execution_count": 4,
   "metadata": {},
   "outputs": [
    {
     "name": "stdout",
     "output_type": "stream",
     "text": [
      "C:\\Users\\win10\\Desktop\\京东发货数据\n",
      "成功创建！\n"
     ]
    }
   ],
   "source": [
    "# 检查主目录中是否存在某文件夹，若不存在就创建\n",
    "import os\n",
    "MESSAGE = 'The directory already exists.'\n",
    "TESTDIR = '宝视佳4.9退件副本.xlsx'\n",
    "try:\n",
    "    home = os.path.expanduser(r\"C:\\Users\\win10\\Desktop\\京东发货数据\")\n",
    "    print(home)\n",
    "    if not os.path.exists(os.path.join(home, TESTDIR)):\n",
    "        f = open(os.path.join(home, TESTDIR), \"x\")\n",
    "        print(\"成功创建！\")\n",
    "        f.close()\n",
    "    else:\n",
    "        print(MESSAGE)\n",
    "except Exception as e:\n",
    "    print(e)\n",
    "\n",
    "# os.makedirs(os.path.join(home,TESTDIR)) 创建文件夹\n",
    "# \"x\" - 创建 - 将创建一个文件，如果文件存在则返回错误\n",
    "# \"a\" - 追加 - 如果指定的文件不存在，将创建一个文件;a+\t可读可写\n",
    "# \"w\" - 写入 - 如果指定的文件不存在，将创建一个文件;w+\t可读可写\n",
    "# \"r - 只读 - 如果指定的文件不存在，如果文件不存在报错;r+\t可读可写"
   ]
  },
  {
   "cell_type": "code",
   "execution_count": 1,
   "metadata": {},
   "outputs": [
    {
     "ename": "FileNotFoundError",
     "evalue": "[Errno 2] No such file or directory: 'C:\\\\Users\\\\win10\\\\Desktop\\\\1.jpg'",
     "output_type": "error",
     "traceback": [
      "\u001b[1;31m---------------------------------------------------------------------------\u001b[0m",
      "\u001b[1;31mFileNotFoundError\u001b[0m                         Traceback (most recent call last)",
      "\u001b[1;32m<ipython-input-1-55693269bac5>\u001b[0m in \u001b[0;36m<module>\u001b[1;34m()\u001b[0m\n\u001b[0;32m     15\u001b[0m         \u001b[0mprint\u001b[0m\u001b[1;33m(\u001b[0m\u001b[1;34m\"The resolution of the image  is\"\u001b[0m\u001b[1;33m,\u001b[0m \u001b[0mwidth\u001b[0m\u001b[1;33m,\u001b[0m \u001b[1;34m\"x\"\u001b[0m\u001b[1;33m,\u001b[0m \u001b[0mheight\u001b[0m\u001b[1;33m)\u001b[0m\u001b[1;33m\u001b[0m\u001b[0m\n\u001b[0;32m     16\u001b[0m \u001b[1;33m\u001b[0m\u001b[0m\n\u001b[1;32m---> 17\u001b[1;33m \u001b[0mjpeg_res\u001b[0m\u001b[1;33m(\u001b[0m\u001b[1;34mr\"C:\\Users\\win10\\Desktop\\1.jpg\"\u001b[0m\u001b[1;33m)\u001b[0m\u001b[1;33m\u001b[0m\u001b[0m\n\u001b[0m",
      "\u001b[1;32m<ipython-input-1-55693269bac5>\u001b[0m in \u001b[0;36mjpeg_res\u001b[1;34m(filename)\u001b[0m\n\u001b[0;32m      2\u001b[0m \u001b[1;32mdef\u001b[0m \u001b[0mjpeg_res\u001b[0m\u001b[1;33m(\u001b[0m\u001b[0mfilename\u001b[0m\u001b[1;33m)\u001b[0m\u001b[1;33m:\u001b[0m\u001b[1;33m\u001b[0m\u001b[0m\n\u001b[0;32m      3\u001b[0m     \u001b[1;31m# open image for reading in bina\u001b[0m\u001b[1;33m\u001b[0m\u001b[1;33m\u001b[0m\u001b[0m\n\u001b[1;32m----> 4\u001b[1;33m     \u001b[1;32mwith\u001b[0m \u001b[0mopen\u001b[0m\u001b[1;33m(\u001b[0m\u001b[0mfilename\u001b[0m\u001b[1;33m,\u001b[0m \u001b[1;34m'rb'\u001b[0m\u001b[1;33m)\u001b[0m \u001b[1;32mas\u001b[0m \u001b[0mimg_file\u001b[0m\u001b[1;33m:\u001b[0m\u001b[1;33m\u001b[0m\u001b[0m\n\u001b[0m\u001b[0;32m      5\u001b[0m         \u001b[1;31m# height of image (in 2 byte） is at 164th position\u001b[0m\u001b[1;33m\u001b[0m\u001b[1;33m\u001b[0m\u001b[0m\n\u001b[0;32m      6\u001b[0m         \u001b[0mimg_file\u001b[0m\u001b[1;33m.\u001b[0m\u001b[0mseek\u001b[0m\u001b[1;33m(\u001b[0m\u001b[1;36m163\u001b[0m\u001b[1;33m)\u001b[0m\u001b[1;33m\u001b[0m\u001b[0m\n",
      "\u001b[1;31mFileNotFoundError\u001b[0m: [Errno 2] No such file or directory: 'C:\\\\Users\\\\win10\\\\Desktop\\\\1.jpg'"
     ]
    }
   ],
   "source": [
    "# 读取图片分辨率\n",
    "def jpeg_res(filename):\n",
    "    # open image for reading in bina\n",
    "    with open(filename, 'rb') as img_file:\n",
    "        # height of image (in 2 byte） is at 164th position\n",
    "        img_file.seek(163)\n",
    "        # read the 2 bytes\n",
    "        a = img_file.read(2)\n",
    "        # calculate height\n",
    "        height = (a[0] << 8) + a[1]\n",
    "        # next 2 bytes is width\n",
    "        a = img_file.read(2)\n",
    "        # calculate width\n",
    "        width = (a[0] << 8) + a[1]\n",
    "        print(\"The resolution of the image  is\", width, \"x\", height)\n",
    "\n",
    "jpeg_res(r\"C:\\Users\\win10\\Desktop\\1.jpg\")"
   ]
  },
  {
   "cell_type": "code",
   "execution_count": 7,
   "metadata": {},
   "outputs": [
    {
     "name": "stdout",
     "output_type": "stream",
     "text": [
      "[{'order_id': 1000001, 'platform': 4, 'platform_order_id': '606f02f8cdafb4d5fe89dddd', 'original_order_id': 0, 'copy_type': 0, 'resend_type': 0, 'split_type': 0, 'order_type': None, 'order_status': 'SHIPPED', 'currency': 'CNY', 'total_price': 18.42, 'fee_or_credit': 0.0, 'sale_date': datetime.datetime(2021, 4, 9, 5, 32, 35), 'paid_date': datetime.datetime(2021, 4, 9, 5, 32, 35), 'print_date': None, 'deliver_date': None, 'last_modified_time': datetime.datetime(2021, 4, 12, 14, 13, 14), 'seller_id': 'wish_shoprythe', 'seller_email': None, 'seller_pay': None, 'buyer_id': 'XRHSTOS RAPTHS', 'buyer_name': 'XRHSTOS RAPTHS', 'buyer_mobile': '', 'buyer_tel': '2741020047', 'buyer_country_code': 'GR', 'buyer_country': 'Greece', 'buyer_postal_code': '20100', 'street': 'ARGOUS 54', 'street2': '', 'buyer_city': 'KORINTHOS', 'buyer_state_or_province': '', 'buyer_email': '', 'buyer_checkout': None, 'reference_id': None, 'payment_status': None, 'is_paid': 1, 'is_refunded': 0, 'complete_status': '', 'sales_record_number': '', 'logistics_company': None, 'shipping_service': 'WishPost', 'shipping_cost': 6.95, 'shipping_status': 0, 'freight': 0.0, 'is_shipped': None, 'shipped_time': datetime.datetime(2021, 4, 12, 8, 0), 'logistics_type': 1616, 'tracking_number': None, 'agent_mailno': '', 'is_sign_shipped': 0, 'is_sign_outstock': 0, 'is_sign_deliver': 0, 'is_sign_message': 0, 'is_sign_feedback': 0, 'is_sign_paid': 0, 'is_sign_refund': 0, 'is_sign_prompt': 0, 'is_distribution': 0, 'real_weight': 0.0, 'system_price': 65.63, 'status': 7, 'extends_status': '', 'creation_date': datetime.datetime(2021, 4, 9, 5, 50, 5), 'created_by': None, 'last_update_date': datetime.datetime(2021, 4, 12, 20, 0, 12), 'last_updated_by': 1454, 'in_print_date': datetime.datetime(2021, 4, 12, 7, 57, 53), 'in_merge_date': datetime.datetime(2021, 4, 12, 14, 13, 37), 'in_stockout_date': datetime.datetime(2021, 4, 9, 5, 51, 13), 'remark': None, 'is_locked': None, 'receipt_date': None}, {'order_id': 176374702, 'platform': 13, 'platform_order_id': '2012171258KP9TS', 'original_order_id': None, 'copy_type': None, 'resend_type': None, 'split_type': 0, 'order_type': None, 'order_status': '12313', 'currency': 'CNY', 'total_price': 2450.0, 'fee_or_credit': 0.0, 'sale_date': datetime.datetime(2016, 10, 28, 16, 31, 13), 'paid_date': datetime.datetime(2021, 1, 25, 8, 0), 'print_date': None, 'deliver_date': datetime.datetime(2021, 4, 12, 9, 25, 7), 'last_modified_time': datetime.datetime(2020, 10, 21, 0, 3, 19), 'seller_id': 'test', 'seller_email': None, 'seller_pay': None, 'buyer_id': '', 'buyer_name': 'Amazon.com.ca, Inc.', 'buyer_mobile': '', 'buyer_tel': ' 4158519136', 'buyer_country_code': 'US', 'buyer_country': 'United States', 'buyer_postal_code': '14752', 'street': '8050 Heritage Road', 'street2': '', 'buyer_city': 'Brampton', 'buyer_state_or_province': 'ON ', 'buyer_email': '', 'buyer_checkout': None, 'reference_id': None, 'payment_status': None, 'is_paid': 1, 'is_refunded': None, 'complete_status': '', 'sales_record_number': '', 'logistics_company': 'other', 'shipping_service': None, 'shipping_cost': None, 'shipping_status': None, 'freight': 0.0, 'is_shipped': 1, 'shipped_time': datetime.datetime(2020, 11, 4, 9, 11, 4), 'logistics_type': 1637, 'tracking_number': 'AQ851236299CN', 'agent_mailno': '1763747022218', 'is_sign_shipped': 0, 'is_sign_outstock': 1, 'is_sign_deliver': None, 'is_sign_message': None, 'is_sign_feedback': None, 'is_sign_paid': None, 'is_sign_refund': None, 'is_sign_prompt': None, 'is_distribution': None, 'real_weight': 0.0, 'system_price': 38.34, 'status': 97, 'extends_status': '17', 'creation_date': datetime.datetime(2019, 3, 29, 5, 5), 'created_by': 18696, 'last_update_date': datetime.datetime(2021, 3, 17, 15, 30, 42), 'last_updated_by': 1454, 'in_print_date': None, 'in_merge_date': None, 'in_stockout_date': datetime.datetime(2021, 1, 25, 8, 0), 'remark': '', 'is_locked': None, 'receipt_date': None}]\n"
     ]
    }
   ],
   "source": [
    "# 连接mysql\n",
    "import mysql.connector\n",
    "mydb = mysql.connector.connect(\n",
    "    host=\"192.168.99.214\",\n",
    "    user=\"bessky_pss\",\n",
    "    passwd=\"20092009\",\n",
    "    database=\"bessky_pss\"\n",
    ")\n",
    "cur = mydb.cursor()\n",
    "cur.execute(\"select * from t_order limit 0,2\")\n",
    "# import pdb; pdb.set_trace()\n",
    "index = cur.description\n",
    "#index=[('order_id', 3, None, None, None, None, 0, 16907), ..] 二维列表-[tuple元祖]\n",
    "result = []\n",
    "for res in cur.fetchall():\n",
    "    row = {}\n",
    "    for i in range(len(index)):\n",
    "        row[index[i][0]] = res[i]\n",
    "        # 取出列表的列名与数据组成字典\n",
    "    result.append(row)\n",
    "print(result) \n",
    "#只打印数据\n",
    "# myresult = cur.fetchall()\n",
    "# for res in myresult:\n",
    "#     print(res)    \n",
    "# myresult=[(1000001, 4, '606f02f8cdafb4d5fe89dddd',..] \n",
    "mydb.close()\n"
   ]
  },
  {
   "cell_type": "code",
   "execution_count": 1,
   "metadata": {},
   "outputs": [
    {
     "name": "stdout",
     "output_type": "stream",
     "text": [
      "Collecting mysql-connector-python-rf\n",
      "  Using cached https://files.pythonhosted.org/packages/21/79/2ff01ab7aa08db3a16b70b990c579c1024c6b2a734263cc7513a758867de/mysql-connector-python-rf-2.2.2.tar.gz\n",
      "Building wheels for collected packages: mysql-connector-python-rf\n",
      "  Running setup.py bdist_wheel for mysql-connector-python-rf: started\n",
      "  Running setup.py bdist_wheel for mysql-connector-python-rf: finished with status 'done'\n",
      "  Stored in directory: C:\\Users\\win10\\AppData\\Local\\pip\\Cache\\wheels\\87\\58\\fb\\d95c84fad7e1bebfed324c13e107ebb08e1997c9226532859a\n",
      "Successfully built mysql-connector-python-rf\n",
      "Installing collected packages: mysql-connector-python-rf\n",
      "Successfully installed mysql-connector-python-rf-2.2.2\n"
     ]
    },
    {
     "name": "stderr",
     "output_type": "stream",
     "text": [
      "twisted 18.7.0 requires PyHamcrest>=1.9.0, which is not installed.\n",
      "You are using pip version 10.0.1, however version 21.1.1 is available.\n",
      "You should consider upgrading via the 'python -m pip install --upgrade pip' command.\n"
     ]
    }
   ],
   "source": [
    "!pip install mysql-connector-python-rf\n"
   ]
  },
  {
   "cell_type": "code",
   "execution_count": 10,
   "metadata": {
    "collapsed": true
   },
   "outputs": [
    {
     "name": "stderr",
     "output_type": "stream",
     "text": [
      "Getting uuid of QR code.\n",
      "Downloading QR code.\n",
      "Please scan the QR code to log in.\n",
      "Please press confirm on your phone.\n",
      "Loading the contact, this may take a little while.\n"
     ]
    },
    {
     "ename": "KeyError",
     "evalue": "'pass_ticket'",
     "output_type": "error",
     "traceback": [
      "\u001b[1;31m---------------------------------------------------------------------------\u001b[0m",
      "\u001b[1;31mKeyError\u001b[0m                                  Traceback (most recent call last)",
      "\u001b[1;32m<ipython-input-10-23d121292a29>\u001b[0m in \u001b[0;36m<module>\u001b[1;34m\u001b[0m\n\u001b[0;32m      5\u001b[0m \u001b[1;32mimport\u001b[0m \u001b[0mrequests\u001b[0m\u001b[1;33m\u001b[0m\u001b[1;33m\u001b[0m\u001b[0m\n\u001b[0;32m      6\u001b[0m \u001b[1;32mimport\u001b[0m \u001b[0mrandom\u001b[0m\u001b[1;33m\u001b[0m\u001b[1;33m\u001b[0m\u001b[0m\n\u001b[1;32m----> 7\u001b[1;33m \u001b[0mbot\u001b[0m \u001b[1;33m=\u001b[0m \u001b[0mBot\u001b[0m\u001b[1;33m(\u001b[0m\u001b[1;33m)\u001b[0m\u001b[1;33m\u001b[0m\u001b[1;33m\u001b[0m\u001b[0m\n\u001b[0m\u001b[0;32m      8\u001b[0m \u001b[1;31m# linux执行登陆请调用下面的这句\u001b[0m\u001b[1;33m\u001b[0m\u001b[1;33m\u001b[0m\u001b[1;33m\u001b[0m\u001b[0m\n\u001b[0;32m      9\u001b[0m \u001b[1;31m#bot = Bot(console_qr=2,cache_path=\"botoo.pkl\")\u001b[0m\u001b[1;33m\u001b[0m\u001b[1;33m\u001b[0m\u001b[1;33m\u001b[0m\u001b[0m\n",
      "\u001b[1;32mD:\\anaconda\\lib\\site-packages\\wxpy\\api\\bot.py\u001b[0m in \u001b[0;36m__init__\u001b[1;34m(self, cache_path, console_qr, qr_path, qr_callback, login_callback, logout_callback)\u001b[0m\n\u001b[0;32m     81\u001b[0m \u001b[1;33m\u001b[0m\u001b[0m\n\u001b[0;32m     82\u001b[0m         \u001b[1;32mtry\u001b[0m\u001b[1;33m:\u001b[0m\u001b[1;33m\u001b[0m\u001b[1;33m\u001b[0m\u001b[0m\n\u001b[1;32m---> 83\u001b[1;33m             self.core.auto_login(\n\u001b[0m\u001b[0;32m     84\u001b[0m                 \u001b[0mhotReload\u001b[0m\u001b[1;33m=\u001b[0m\u001b[0mbool\u001b[0m\u001b[1;33m(\u001b[0m\u001b[0mcache_path\u001b[0m\u001b[1;33m)\u001b[0m\u001b[1;33m,\u001b[0m \u001b[0mstatusStorageDir\u001b[0m\u001b[1;33m=\u001b[0m\u001b[0mcache_path\u001b[0m\u001b[1;33m,\u001b[0m\u001b[1;33m\u001b[0m\u001b[1;33m\u001b[0m\u001b[0m\n\u001b[0;32m     85\u001b[0m                 \u001b[0menableCmdQR\u001b[0m\u001b[1;33m=\u001b[0m\u001b[0mconsole_qr\u001b[0m\u001b[1;33m,\u001b[0m \u001b[0mpicDir\u001b[0m\u001b[1;33m=\u001b[0m\u001b[0mqr_path\u001b[0m\u001b[1;33m,\u001b[0m \u001b[0mqrCallback\u001b[0m\u001b[1;33m=\u001b[0m\u001b[0mqr_callback\u001b[0m\u001b[1;33m,\u001b[0m\u001b[1;33m\u001b[0m\u001b[1;33m\u001b[0m\u001b[0m\n",
      "\u001b[1;32mD:\\anaconda\\lib\\site-packages\\itchat\\components\\register.py\u001b[0m in \u001b[0;36mauto_login\u001b[1;34m(self, hotReload, statusStorageDir, enableCmdQR, picDir, qrCallback, loginCallback, exitCallback)\u001b[0m\n\u001b[0;32m     32\u001b[0m         \u001b[0mself\u001b[0m\u001b[1;33m.\u001b[0m\u001b[0mhotReloadDir\u001b[0m \u001b[1;33m=\u001b[0m \u001b[0mstatusStorageDir\u001b[0m\u001b[1;33m\u001b[0m\u001b[1;33m\u001b[0m\u001b[0m\n\u001b[0;32m     33\u001b[0m     \u001b[1;32melse\u001b[0m\u001b[1;33m:\u001b[0m\u001b[1;33m\u001b[0m\u001b[1;33m\u001b[0m\u001b[0m\n\u001b[1;32m---> 34\u001b[1;33m         self.login(enableCmdQR=enableCmdQR, picDir=picDir, qrCallback=qrCallback,\n\u001b[0m\u001b[0;32m     35\u001b[0m             loginCallback=loginCallback, exitCallback=exitCallback)\n\u001b[0;32m     36\u001b[0m \u001b[1;33m\u001b[0m\u001b[0m\n",
      "\u001b[1;32mD:\\anaconda\\lib\\site-packages\\itchat\\components\\login.py\u001b[0m in \u001b[0;36mlogin\u001b[1;34m(self, enableCmdQR, picDir, qrCallback, loginCallback, exitCallback)\u001b[0m\n\u001b[0;32m     64\u001b[0m     \u001b[0mlogger\u001b[0m\u001b[1;33m.\u001b[0m\u001b[0minfo\u001b[0m\u001b[1;33m(\u001b[0m\u001b[1;34m'Loading the contact, this may take a little while.'\u001b[0m\u001b[1;33m)\u001b[0m\u001b[1;33m\u001b[0m\u001b[1;33m\u001b[0m\u001b[0m\n\u001b[0;32m     65\u001b[0m     \u001b[0mself\u001b[0m\u001b[1;33m.\u001b[0m\u001b[0mweb_init\u001b[0m\u001b[1;33m(\u001b[0m\u001b[1;33m)\u001b[0m\u001b[1;33m\u001b[0m\u001b[1;33m\u001b[0m\u001b[0m\n\u001b[1;32m---> 66\u001b[1;33m     \u001b[0mself\u001b[0m\u001b[1;33m.\u001b[0m\u001b[0mshow_mobile_login\u001b[0m\u001b[1;33m(\u001b[0m\u001b[1;33m)\u001b[0m\u001b[1;33m\u001b[0m\u001b[1;33m\u001b[0m\u001b[0m\n\u001b[0m\u001b[0;32m     67\u001b[0m     \u001b[0mself\u001b[0m\u001b[1;33m.\u001b[0m\u001b[0mget_contact\u001b[0m\u001b[1;33m(\u001b[0m\u001b[1;32mTrue\u001b[0m\u001b[1;33m)\u001b[0m\u001b[1;33m\u001b[0m\u001b[1;33m\u001b[0m\u001b[0m\n\u001b[0;32m     68\u001b[0m     \u001b[1;32mif\u001b[0m \u001b[0mhasattr\u001b[0m\u001b[1;33m(\u001b[0m\u001b[0mloginCallback\u001b[0m\u001b[1;33m,\u001b[0m \u001b[1;34m'__call__'\u001b[0m\u001b[1;33m)\u001b[0m\u001b[1;33m:\u001b[0m\u001b[1;33m\u001b[0m\u001b[1;33m\u001b[0m\u001b[0m\n",
      "\u001b[1;32mD:\\anaconda\\lib\\site-packages\\itchat\\components\\login.py\u001b[0m in \u001b[0;36mshow_mobile_login\u001b[1;34m(self)\u001b[0m\n\u001b[0;32m    210\u001b[0m \u001b[1;32mdef\u001b[0m \u001b[0mshow_mobile_login\u001b[0m\u001b[1;33m(\u001b[0m\u001b[0mself\u001b[0m\u001b[1;33m)\u001b[0m\u001b[1;33m:\u001b[0m\u001b[1;33m\u001b[0m\u001b[1;33m\u001b[0m\u001b[0m\n\u001b[0;32m    211\u001b[0m     url = '%s/webwxstatusnotify?lang=zh_CN&pass_ticket=%s' % (\n\u001b[1;32m--> 212\u001b[1;33m         self.loginInfo['url'], self.loginInfo['pass_ticket'])\n\u001b[0m\u001b[0;32m    213\u001b[0m     data = {\n\u001b[0;32m    214\u001b[0m         \u001b[1;34m'BaseRequest'\u001b[0m  \u001b[1;33m:\u001b[0m \u001b[0mself\u001b[0m\u001b[1;33m.\u001b[0m\u001b[0mloginInfo\u001b[0m\u001b[1;33m[\u001b[0m\u001b[1;34m'BaseRequest'\u001b[0m\u001b[1;33m]\u001b[0m\u001b[1;33m,\u001b[0m\u001b[1;33m\u001b[0m\u001b[1;33m\u001b[0m\u001b[0m\n",
      "\u001b[1;31mKeyError\u001b[0m: 'pass_ticket'"
     ]
    }
   ],
   "source": [
    "# 微信定时任务\n",
    "from __future__ import unicode_literals\n",
    "from threading import Timer\n",
    "from wxpy import *\n",
    "import requests\n",
    "import random\n",
    "bot = Bot()\n",
    "# linux执行登陆请调用下面的这句\n",
    "#bot = Bot(console_qr=2,cache_path=\"botoo.pkl\")\n",
    "\n",
    "\n",
    "def get_news():\n",
    "    \"\"\"获取金山词霸每日一句，英文和翻译\"\"\"\n",
    "    url = \"http://open.iciba.com/dsapi/\"\n",
    "    r = requests.get(url)\n",
    "    content = r.json()['content']\n",
    "    note = r.json()['note']\n",
    "    return content, note\n",
    "\n",
    "\n",
    "def send_news():\n",
    "    try:\n",
    "        contents = get_news()\n",
    "        # 你朋友的微信名称，不是备注，也不是微信帐号。\n",
    "        my_friend = bot.friends().search('武汉苏宁市场部陈宪')[0]\n",
    "        my_friend.send(contents[0])\n",
    "        my_friend.send(contents[1])\n",
    "        my_friend.send(u\"晚安\")\n",
    "        # 每86400秒（1天），发送1次\n",
    "        # 为了防止时间太固定，于是决定对其加上随机数\n",
    "        ran_int = random.randint(0, 100)\n",
    "        t = Timer(1, send_news)\n",
    "        t.start()\n",
    "    except:\n",
    "        # 你的微信名称，不是微信帐号。\n",
    "        my_friend = bot.friends().search('威风大侠')[0]\n",
    "        my_friend.send(u\"今天消息发送失败了\")\n",
    "        \n",
    "if __name__ == \"__main__\":\n",
    "    send_news()\n",
    "    \n",
    "# KeyError: 'pass_ticket'\n",
    "# wxpy是根据网页版微信的接口封装的库。需要网页版可以登的微信号  "
   ]
  },
  {
   "cell_type": "code",
   "execution_count": 7,
   "metadata": {
    "collapsed": true
   },
   "outputs": [
    {
     "name": "stdout",
     "output_type": "stream",
     "text": [
      "Collecting wxpy\n",
      "  Downloading wxpy-0.3.9.8.tar.gz (45 kB)\n",
      "Collecting itchat==1.2.32\n",
      "  Downloading itchat-1.2.32-py2.py3-none-any.whl (34 kB)\n",
      "Requirement already satisfied: requests in d:\\anaconda\\lib\\site-packages (from wxpy) (2.24.0)\n",
      "Requirement already satisfied: future in d:\\anaconda\\lib\\site-packages (from wxpy) (0.18.2)\n",
      "Collecting pyqrcode\n",
      "  Downloading PyQRCode-1.2.1.tar.gz (36 kB)\n",
      "Collecting pypng\n",
      "  Downloading pypng-0.0.20.tar.gz (649 kB)\n",
      "Requirement already satisfied: certifi>=2017.4.17 in d:\\anaconda\\lib\\site-packages (from requests->wxpy) (2020.6.20)\n",
      "Requirement already satisfied: idna<3,>=2.5 in d:\\anaconda\\lib\\site-packages (from requests->wxpy) (2.10)\n",
      "Requirement already satisfied: chardet<4,>=3.0.2 in d:\\anaconda\\lib\\site-packages (from requests->wxpy) (3.0.4)\n",
      "Requirement already satisfied: urllib3!=1.25.0,!=1.25.1,<1.26,>=1.21.1 in d:\\anaconda\\lib\\site-packages (from requests->wxpy) (1.25.11)\n",
      "Building wheels for collected packages: wxpy, pyqrcode, pypng\n",
      "  Building wheel for wxpy (setup.py): started\n",
      "  Building wheel for wxpy (setup.py): finished with status 'done'\n",
      "  Created wheel for wxpy: filename=wxpy-0.3.9.8-py3-none-any.whl size=63028 sha256=961e3879c80be045801b375a3c1ecec9ba7499d449712f8d2bd63f89c19c374c\n",
      "  Stored in directory: c:\\users\\win10\\appdata\\local\\pip\\cache\\wheels\\ab\\61\\29\\1d5220438a51bb2e26d27fdaf6b0d446023f125cd4e87001a9\n",
      "  Building wheel for pyqrcode (setup.py): started\n",
      "  Building wheel for pyqrcode (setup.py): finished with status 'done'\n",
      "  Created wheel for pyqrcode: filename=PyQRCode-1.2.1-py3-none-any.whl size=36250 sha256=a4981c28f17e914948c438df56ea56681cf504c974cb916e8999fd7ace7a0932\n",
      "  Stored in directory: c:\\users\\win10\\appdata\\local\\pip\\cache\\wheels\\e1\\1a\\48\\c9d6b7295d3750a8d38001a2a3e86d8816e2e90964a0cc73cd\n",
      "  Building wheel for pypng (setup.py): started\n",
      "  Building wheel for pypng (setup.py): finished with status 'done'\n",
      "  Created wheel for pypng: filename=pypng-0.0.20-py3-none-any.whl size=67167 sha256=c76d516f04a873e71bdbb44f45b16e9f7eebb8dacdd7af326271f42f1507ebad\n",
      "  Stored in directory: c:\\users\\win10\\appdata\\local\\pip\\cache\\wheels\\3a\\ad\\91\\4f6a5e9f3db79c28e71e7b59099dce8a75618a34ff415d44b1\n",
      "Successfully built wxpy pyqrcode pypng\n",
      "Installing collected packages: pyqrcode, pypng, itchat, wxpy\n",
      "Successfully installed itchat-1.2.32 pypng-0.0.20 pyqrcode-1.2.1 wxpy-0.3.9.8\n",
      "Requirement already satisfied: requests in d:\\anaconda\\lib\\site-packages (2.24.0)\n",
      "Requirement already satisfied: chardet<4,>=3.0.2 in d:\\anaconda\\lib\\site-packages (from requests) (3.0.4)\n",
      "Requirement already satisfied: certifi>=2017.4.17 in d:\\anaconda\\lib\\site-packages (from requests) (2020.6.20)\n",
      "Requirement already satisfied: urllib3!=1.25.0,!=1.25.1,<1.26,>=1.21.1 in d:\\anaconda\\lib\\site-packages (from requests) (1.25.11)\n",
      "Requirement already satisfied: idna<3,>=2.5 in d:\\anaconda\\lib\\site-packages (from requests) (2.10)\n"
     ]
    }
   ],
   "source": [
    "!pip install wxpy\n",
    "!pip install requests"
   ]
  },
  {
   "cell_type": "code",
   "execution_count": null,
   "metadata": {},
   "outputs": [],
   "source": [
    "#定时任务\n",
    "import time\n",
    "while True:\n",
    "  time_now = time.strftime(\"%S\", time.localtime()) # 刷新\n",
    "  if time_now >= \"2\": #此处设置每天定时的时间\n",
    "    # 此处3行替换为需要执行的动作\n",
    "    print(\"hello\")\n",
    "    subject = time.strftime(\"%Y-%m-%d %H:%M:%S\", time.localtime()) + \" 定时发送测试\"\n",
    "    print(subject)\n",
    "    time.sleep(2) # 因为以秒定时，所以暂停2秒，使之不会在1秒内执行多次"
   ]
  },
  {
   "cell_type": "code",
   "execution_count": null,
   "metadata": {},
   "outputs": [],
   "source": [
    "# selenium打开浏览器搜索\n",
    "from selenium import webdriver\n",
    "import time\n",
    "\n",
    "driver = webdriver.Chrome()\n",
    "driver.get(\"http://www.baidu.com\")\n",
    "print(driver.title)\n",
    "driver.find_element_by_id(\"kw\").send_keys(\"selenium\")\n",
    "driver.find_element_by_id(\"su\").click()\n",
    "time.sleep(3)\n",
    "driver.back()  # 回到上一个页面\n",
    "driver.maximize_window()  # 浏览器窗口最大化\n",
    "driver.refresh()  # 重新加载页面\n",
    "driver.get_screenshot_as_file(r\"C:\\Users\\win10\\Desktop\\shot1.jpg\")\n",
    "time.sleep(3)\n",
    "driver.close()\n",
    "# Message: 'chromedriver' executable needs to be in PATH. Please see\n",
    "# 解决：chrome://version123456\n",
    "\n",
    "# 安装对应版本chromedriver.exe，放进anaconda/script文件夹里面"
   ]
  },
  {
   "cell_type": "code",
   "execution_count": null,
   "metadata": {},
   "outputs": [],
   "source": [
    "!pip install selenium"
   ]
  },
  {
   "cell_type": "code",
   "execution_count": 1,
   "metadata": {},
   "outputs": [
    {
     "name": "stdout",
     "output_type": "stream",
     "text": [
      "(641, 172)\n"
     ]
    }
   ],
   "source": [
    "# 鼠标\n",
    "from pykeyboard import *\n",
    "from pymouse import *\n",
    "m = PyMouse()\n",
    "k = PyKeyboard()\n",
    "\n",
    "print(m.position())\n",
    "m.click(1157, 470)\n",
    "k.type_string('123456')\n",
    "k.tap_key(k.enter_key)"
   ]
  },
  {
   "cell_type": "code",
   "execution_count": 9,
   "metadata": {},
   "outputs": [
    {
     "name": "stdout",
     "output_type": "stream",
     "text": [
      "Requirement already satisfied: pymouse in d:\\anaconda\\lib\\site-packages (1.0)\n",
      "Requirement already satisfied: PyUserInput in d:\\anaconda\\lib\\site-packages (0.1.11)\n",
      "Requirement already satisfied: pywin32 in d:\\anaconda\\lib\\site-packages (from PyUserInput) (223)\n",
      "Requirement already satisfied: pyHook in d:\\anaconda\\lib\\site-packages (from PyUserInput) (1.5.1)\n"
     ]
    }
   ],
   "source": [
    "!pip install pymouse\n",
    "!pip install PyUserInput\n",
    "# No module named 'windows' 解决：进入pymouse的安装路径打开__init__.py文件；把92行的windows改为pymouse.windows.\n",
    "# 此电脑右键属性看系统，import sys sys.version看版本"
   ]
  },
  {
   "cell_type": "code",
   "execution_count": null,
   "metadata": {},
   "outputs": [],
   "source": [
    "!pip install C:\\Users\\win10\\Downloads\\pyHook-1.5.1-cp37-cp37m-win_amd64.whl"
   ]
  },
  {
   "cell_type": "code",
   "execution_count": 6,
   "metadata": {},
   "outputs": [
    {
     "data": {
      "text/plain": [
       "['',\n",
       " 'E:\\\\front-end\\\\py',\n",
       " 'D:\\\\anaconda\\\\python37.zip',\n",
       " 'D:\\\\anaconda\\\\DLLs',\n",
       " 'D:\\\\anaconda\\\\lib',\n",
       " 'D:\\\\anaconda',\n",
       " 'C:\\\\Users\\\\win10\\\\AppData\\\\Roaming\\\\Python\\\\Python37\\\\site-packages',\n",
       " 'D:\\\\anaconda\\\\lib\\\\site-packages',\n",
       " 'D:\\\\anaconda\\\\lib\\\\site-packages\\\\win32',\n",
       " 'D:\\\\anaconda\\\\lib\\\\site-packages\\\\win32\\\\lib',\n",
       " 'D:\\\\anaconda\\\\lib\\\\site-packages\\\\Pythonwin',\n",
       " 'D:\\\\anaconda\\\\lib\\\\site-packages\\\\IPython\\\\extensions',\n",
       " 'C:\\\\Users\\\\win10\\\\.ipython']"
      ]
     },
     "execution_count": 6,
     "metadata": {},
     "output_type": "execute_result"
    }
   ],
   "source": [
    "import sys\n",
    "sys.path"
   ]
  },
  {
   "cell_type": "code",
   "execution_count": 3,
   "metadata": {},
   "outputs": [
    {
     "name": "stdout",
     "output_type": "stream",
     "text": [
      "Requirement already satisfied: pyHook in d:\\anaconda\\envs\\py3.7.5\\lib\\site-packages (1.5.1)\n"
     ]
    }
   ],
   "source": [
    "!pip install pyHook"
   ]
  },
  {
   "cell_type": "code",
   "execution_count": 11,
   "metadata": {},
   "outputs": [],
   "source": [
    "import sys \n",
    "sys.path.insert(0, 'D:/anaconda/envs/py3.7.5/Lib/site-packages/pykeyboard/windows.py')\n",
    "#一次性，刷新就消失；环境变量可以增加PYTHONPATH重启；开启不了重新安装anaconda3.7版本"
   ]
  },
  {
   "cell_type": "code",
   "execution_count": 13,
   "metadata": {},
   "outputs": [],
   "source": [
    "import sys \n",
    "del sys.path[0]"
   ]
  },
  {
   "cell_type": "code",
   "execution_count": null,
   "metadata": {},
   "outputs": [],
   "source": [
    "!pip install PyKeyboard\n",
    "!pip install pynput"
   ]
  },
  {
   "cell_type": "code",
   "execution_count": null,
   "metadata": {
    "scrolled": false
   },
   "outputs": [],
   "source": [
    "from pynput.mouse import Button,Controller\n",
    "mouse = Controller()\n",
    "print('the current pointer position is {0}'.format(mouse.position))\n",
    "mouse.position=(31,265)\n",
    "print('now we have moved it to {0},open the pic'.format(mouse.position))\n",
    "#相对位置\n",
    "# mouse.move(500,-500)\n",
    "#鼠标点两次\n",
    "mouse.click(Button.left,2)\n",
    "#鼠标左键长按\n",
    "mouse.press(Button.left)\n",
    "mouse.release(Button.left)\n",
    "# 第一个参数是针对水平方向的，暂时不用管，为0则表示不变。\n",
    "# 第二个参数是针对垂直方向的，大于0表示向上，小于0表示向下\n",
    "# 不能快捷键运行，ctrl+鼠标滚轴\n",
    "mouse.scroll(0,200)"
   ]
  },
  {
   "cell_type": "code",
   "execution_count": 2,
   "metadata": {
    "collapsed": true
   },
   "outputs": [
    {
     "name": "stdout",
     "output_type": "stream",
     "text": [
      "执行下面代码\n",
      "12345\n",
      "鼠标移动到: (274, 171)\n",
      "鼠标移动到: (276, 173)\n",
      "鼠标移动到: (282, 181)\n",
      "鼠标移动到: (289, 190)\n",
      "鼠标移动到: (297, 200)\n",
      "鼠标移动到: (308, 211)\n",
      "鼠标移动到: (325, 226)\n",
      "鼠标移动到: (342, 240)\n",
      "鼠标移动到: (359, 253)\n",
      "鼠标移动到: (375, 268)\n",
      "鼠标移动到: (392, 283)\n",
      "鼠标移动到: (412, 300)\n",
      "鼠标移动到: (430, 314)\n",
      "鼠标移动到: (448, 335)\n",
      "鼠标移动到: (464, 354)\n",
      "鼠标移动到: (481, 377)\n",
      "鼠标移动到: (495, 399)\n",
      "鼠标移动到: (516, 426)\n",
      "鼠标移动到: (532, 451)\n",
      "鼠标移动到: (548, 475)\n",
      "鼠标移动到: (563, 502)\n",
      "鼠标移动到: (574, 525)\n",
      "鼠标移动到: (582, 547)\n",
      "鼠标移动到: (586, 558)\n",
      "鼠标移动到: (590, 577)\n",
      "鼠标移动到: (593, 600)\n",
      "鼠标移动到: (594, 623)\n",
      "鼠标移动到: (598, 641)\n",
      "鼠标移动到: (600, 655)\n",
      "鼠标移动到: (601, 666)\n",
      "鼠标移动到: (604, 674)\n",
      "鼠标移动到: (604, 679)\n",
      "鼠标移动到: (604, 682)\n",
      "鼠标移动到: (604, 685)\n",
      "鼠标移动到: (604, 688)\n",
      "鼠标移动到: (604, 692)\n",
      "鼠标移动到: (604, 698)\n",
      "鼠标移动到: (604, 704)\n",
      "鼠标移动到: (604, 709)\n",
      "鼠标移动到: (604, 713)\n",
      "鼠标移动到: (604, 714)\n",
      "鼠标移动到: (604, 715)\n",
      "鼠标移动到: (604, 716)\n",
      "鼠标移动到: (604, 717)\n",
      "鼠标移动到: (604, 719)\n",
      "滑轮在(604, 719)处向上滑\n",
      "鼠标移动到: (604, 719)\n",
      "鼠标移动到: (604, 720)\n",
      "滑轮在(604, 720)处向上滑\n",
      "滑轮在(604, 720)处向上滑\n",
      "滑轮在(604, 720)处向上滑\n",
      "滑轮在(604, 720)处向上滑\n",
      "鼠标移动到: (603, 720)\n",
      "鼠标移动到: (602, 720)\n",
      "鼠标移动到: (602, 720)\n",
      "鼠标移动到: (601, 720)\n",
      "鼠标移动到: (600, 720)\n",
      "鼠标移动到: (599, 720)\n",
      "鼠标移动到: (598, 720)\n",
      "滑轮在(598, 720)处向上滑\n",
      "鼠标移动到: (598, 720)\n",
      "鼠标移动到: (597, 719)\n",
      "鼠标移动到: (594, 714)\n",
      "鼠标移动到: (592, 710)\n",
      "鼠标移动到: (589, 702)\n",
      "鼠标移动到: (584, 691)\n",
      "鼠标移动到: (581, 683)\n",
      "鼠标移动到: (575, 671)\n",
      "鼠标移动到: (572, 661)\n",
      "鼠标移动到: (570, 650)\n",
      "鼠标移动到: (568, 643)\n",
      "鼠标移动到: (566, 636)\n",
      "鼠标移动到: (562, 629)\n",
      "鼠标移动到: (560, 619)\n",
      "鼠标移动到: (555, 610)\n",
      "鼠标移动到: (552, 597)\n",
      "鼠标移动到: (550, 588)\n",
      "鼠标移动到: (547, 579)\n",
      "鼠标移动到: (546, 574)\n",
      "鼠标移动到: (544, 568)\n",
      "鼠标移动到: (542, 562)\n",
      "鼠标移动到: (540, 553)\n",
      "鼠标移动到: (537, 544)\n",
      "鼠标移动到: (537, 536)\n",
      "鼠标移动到: (536, 532)\n",
      "鼠标移动到: (535, 524)\n",
      "鼠标移动到: (534, 513)\n",
      "滑轮在(534, 513)处向上滑\n",
      "鼠标移动到: (534, 501)\n",
      "鼠标移动到: (534, 487)\n",
      "鼠标移动到: (532, 474)\n",
      "鼠标移动到: (532, 466)\n",
      "鼠标移动到: (532, 460)\n",
      "鼠标移动到: (532, 456)\n",
      "鼠标移动到: (531, 455)\n",
      "鼠标移动到: (530, 454)\n",
      "鼠标移动到: (530, 454)\n",
      "滑轮在(530, 454)处向上滑\n",
      "滑轮在(530, 454)处向上滑\n",
      "滑轮在(530, 454)处向上滑\n",
      "鼠标移动到: (530, 456)\n",
      "鼠标移动到: (530, 470)\n",
      "鼠标移动到: (530, 484)\n",
      "鼠标移动到: (530, 502)\n",
      "鼠标移动到: (530, 519)\n",
      "鼠标移动到: (530, 531)\n",
      "鼠标移动到: (530, 541)\n",
      "鼠标移动到: (530, 549)\n",
      "鼠标移动到: (530, 551)\n",
      "鼠标移动到: (530, 552)\n",
      "鼠标移动到: (530, 552)\n",
      "鼠标移动到: (530, 553)\n",
      "鼠标移动到: (528, 556)\n",
      "鼠标移动到: (527, 556)\n",
      "滑轮在(527, 556)处向上滑\n",
      "滑轮在(527, 556)处向上滑\n",
      "滑轮在(527, 556)处向上滑\n",
      "滑轮在(527, 556)处向上滑\n",
      "滑轮在(527, 556)处向上滑\n",
      "鼠标移动到: (527, 557)\n",
      "鼠标移动到: (527, 557)\n",
      "鼠标移动到: (527, 556)\n",
      "鼠标移动到: (527, 554)\n",
      "鼠标移动到: (527, 550)\n",
      "鼠标移动到: (527, 546)\n",
      "鼠标移动到: (527, 541)\n",
      "鼠标移动到: (527, 534)\n",
      "鼠标移动到: (527, 527)\n",
      "鼠标移动到: (527, 522)\n",
      "鼠标移动到: (527, 518)\n",
      "鼠标移动到: (527, 512)\n",
      "鼠标移动到: (525, 505)\n",
      "鼠标移动到: (525, 500)\n",
      "鼠标移动到: (525, 494)\n",
      "鼠标移动到: (525, 489)\n",
      "鼠标移动到: (524, 486)\n",
      "鼠标移动到: (522, 485)\n",
      "滑轮在(522, 485)处向上滑\n",
      "滑轮在(522, 485)处向上滑\n",
      "滑轮在(522, 485)处向上滑\n",
      "滑轮在(522, 485)处向上滑\n",
      "滑轮在(522, 485)处向上滑\n",
      "滑轮在(522, 485)处向上滑\n",
      "滑轮在(522, 485)处向上滑\n",
      "滑轮在(522, 485)处向上滑\n",
      "滑轮在(522, 485)处向上滑\n",
      "滑轮在(522, 485)处向上滑\n",
      "滑轮在(522, 485)处向上滑\n",
      "滑轮在(522, 485)处向上滑\n",
      "滑轮在(522, 485)处向上滑\n",
      "滑轮在(522, 485)处向上滑\n",
      "滑轮在(522, 485)处向上滑\n",
      "滑轮在(522, 485)处向上滑\n",
      "滑轮在(522, 485)处向上滑\n",
      "滑轮在(522, 485)处向上滑\n",
      "滑轮在(522, 485)处向上滑\n",
      "滑轮在(522, 485)处向上滑\n",
      "滑轮在(522, 485)处向上滑\n",
      "滑轮在(522, 485)处向上滑\n",
      "滑轮在(522, 485)处向上滑\n",
      "滑轮在(522, 485)处向上滑\n",
      "滑轮在(522, 485)处向上滑\n",
      "滑轮在(522, 485)处向上滑\n",
      "滑轮在(522, 485)处向上滑\n",
      "滑轮在(522, 485)处向上滑\n",
      "滑轮在(522, 485)处向上滑\n",
      "滑轮在(522, 485)处向上滑\n",
      "滑轮在(522, 485)处向上滑\n",
      "滑轮在(522, 485)处向上滑\n",
      "程序结束\n"
     ]
    }
   ],
   "source": [
    "# 监控鼠标\n",
    "from pynput.mouse import Listener\n",
    "\n",
    "\n",
    "def on_move(x, y):\n",
    "    print(f\"鼠标移动到: ({x}, {y})\")\n",
    "\n",
    "\n",
    "def on_click(x, y, button, is_press):\n",
    "    print(f\"鼠标{button}键在({x}, {y})处{'按下' if is_press else '松开'}\")\n",
    "\n",
    "\n",
    "def on_scroll(x, y, dx, dy):\n",
    "    if dx:\n",
    "        print(f\"滑轮在({x}, {y})处向{'右' if dx > 0 else '左'}滑\")\n",
    "    else:\n",
    "        print(f\"滑轮在({x}, {y})处向{'下' if dy > 0 else '上'}滑\")\n",
    "\n",
    "#阻塞一直执行\n",
    "# with Listener(\n",
    "#     # 上面函数名不能变，记得对应\n",
    "#     on_move=on_move,\n",
    "#     on_click=on_click,\n",
    "#     on_scroll=on_scroll\n",
    "# ) as listener:\n",
    "#     listener.join()\n",
    "listener = Listener(\n",
    "    on_move=on_move,\n",
    "    on_click=on_click,\n",
    "    on_scroll=on_scroll)\n",
    "\n",
    "# 启动线程，主线程会继续向下执行\n",
    "listener.start()\n",
    "print(\"执行下面代码\")\n",
    "print(123)\n",
    "\n",
    "# 此外我们也可以不通过让事件返回False，结束监听\n",
    "# 而是就让它一直监听，等我们的逻辑执行完毕之后，手动结束监听\n",
    "# 结束监听是通listener.stop()\n",
    "import time\n",
    "time.sleep(3)  # 这里睡3s，相当于执行一段长逻辑了，否则子线程还未启动，就直接被主线程强制stop掉了\n",
    "# 结束监听\n",
    "listener.stop()\n",
    "print(\"程序结束\")"
   ]
  },
  {
   "cell_type": "code",
   "execution_count": 4,
   "metadata": {},
   "outputs": [
    {
     "name": "stdout",
     "output_type": "stream",
     "text": [
      "执行下面代码\n",
      "123\n",
      "你松开了shift键\n",
      "你松开了caps_lock键\n",
      "你松开了tab键\n",
      "程序结束\n"
     ]
    }
   ],
   "source": [
    "# 键盘监控\n",
    "from pynput.keyboard import Key, Listener\n",
    "\n",
    "def on_press(key):\n",
    "    if key == Key.esc:\n",
    "        print(f\"你按下了esc，监听结束\")\n",
    "        return False\n",
    "    print(f\"你按下了{key.char if hasattr(key, 'char') else key.name}键\")\n",
    "\n",
    "def on_release(key):\n",
    "    print(f\"你松开了{key.char if hasattr(key, 'char') else key.name}键\")\n",
    "\n",
    "listener = Listener(\n",
    "    on_press_=on_press,\n",
    "    on_release=on_release)\n",
    "\n",
    "# 启动线程，主线程会继续向下执行\n",
    "listener.start()\n",
    "print(\"执行下面代码\")\n",
    "print(123)\n",
    "\n",
    "import time\n",
    "time.sleep(3)  \n",
    "# 结束监听\n",
    "listener.stop()\n",
    "print(\"程序结束\")"
   ]
  },
  {
   "cell_type": "code",
   "execution_count": 8,
   "metadata": {},
   "outputs": [
    {
     "name": "stdout",
     "output_type": "stream",
     "text": [
      "<enum 'Key'>\n"
     ]
    }
   ],
   "source": [
    "from pynput.keyboard import Key, Controller\n",
    "\n",
    "# 实例化一个可以操作键盘的对象\n",
    "keyboard = Controller()\n",
    "\n",
    "# 按下a键,小写\n",
    "keyboard.press(\"a\")\n",
    "\n",
    "# 松开a键\n",
    "keyboard.release(\"a\")\n",
    "\n",
    "# 按下A键，大写\n",
    "keyboard.press(\"A\")\n",
    "# 松开A键\n",
    "keyboard.release(\"A\")\n",
    "\n",
    "# 按下大写键\n",
    "keyboard.press(Key.caps_lock)\n",
    "# 松开大写键\n",
    "keyboard.release(Key.caps_lock)"
   ]
  },
  {
   "cell_type": "code",
   "execution_count": null,
   "metadata": {},
   "outputs": [],
   "source": [
    "# 统计当前根目录代码行数\n",
    "# coding=utf-8\n",
    "import os\n",
    "import time\n",
    "# 设定根目录\n",
    "basedir = './'\n",
    "filelists = []\n",
    "# 指定想要统计的文件类型\n",
    "whitelist = ['cpp', 'h']\n",
    "#遍历文件, 递归遍历文件夹中的所有\n",
    "def getFile(basedir):\n",
    "    global filelists\n",
    "    for parent,dirnames,filenames in os.walk(basedir):\n",
    "        for filename in filenames:\n",
    "            ext = filename.split('.')[-1]\n",
    "            #只统计指定的文件类型，略过一些log和cache文件\n",
    "            if ext in whitelist:\n",
    "                filelists.append(os.path.join(parent,filename))\n",
    "#统计一个的行数\n",
    "def countLine(fname):\n",
    "    count = 0\n",
    "    # 把文件做二进制看待,read.\n",
    "    for file_line in open(fname, 'rb').readlines():\n",
    "        if file_line != '' and file_line != '\\n': #过滤掉空行\n",
    "            count += 1\n",
    "    print (fname + '----' , count)\n",
    "    return count\n",
    "if __name__ == '__main__' :\n",
    "    startTime = time.clock()\n",
    "    getFile(basedir)\n",
    "    totalline = 0\n",
    "    for filelist in filelists:\n",
    "        totalline = totalline + countLine(filelist)\n",
    "    print ('total lines:',totalline)\n",
    "    print ('Done! Cost Time: %0.2f second' % (time.clock() - startTime))"
   ]
  },
  {
   "cell_type": "code",
   "execution_count": 14,
   "metadata": {},
   "outputs": [
    {
     "name": "stdout",
     "output_type": "stream",
     "text": [
      "内存信息：\n",
      "13890.03MB\n",
      "16245.05MB\n",
      "85.50313629099625%\n",
      "*******************\n",
      "磁盘信息：\n",
      "4.06GB\n",
      "250.00GB\n",
      "1.62\n"
     ]
    },
    {
     "name": "stderr",
     "output_type": "stream",
     "text": [
      "Source path:... <ipython-input-14-04891022b242>\n",
      "15:42:41.033064 call         6 def memissue():\n",
      "15:42:41.034063 line         7     print('内存信息：')\n",
      "15:42:41.034063 line         8     mem = psutil.virtual_memory()\n",
      "New var:....... mem = svmem(total=17034174464, available=2469421056, percent=85.5, used=14564753408, free=2469421056)\n",
      "15:42:41.034063 line        10     memtotal = mem.total/1024/1024\n",
      "New var:....... memtotal = 16245.0546875\n",
      "15:42:41.034063 line        11     memused = mem.used/1024/1024\n",
      "New var:....... memused = 13890.03125\n",
      "15:42:41.034063 line        12     membaifen = str(mem.used/mem.total*100) + '%'\n",
      "New var:....... membaifen = '85.50313629099625%'\n",
      "15:42:41.034063 line        14     print('%.2fMB' % memused)\n",
      "15:42:41.034063 line        15     print('%.2fMB' % memtotal)\n",
      "15:42:41.034063 line        16     print(membaifen)\n",
      "15:42:41.034063 return      16     print(membaifen)\n",
      "Return value:.. None\n",
      "Elapsed time: 00:00:00.000999\n"
     ]
    }
   ],
   "source": [
    "# 系统内存与磁盘检测\n",
    "\n",
    "import psutil\n",
    "import pysnooper\n",
    "@pysnooper.snoop()\n",
    "def memissue():\n",
    "    print('内存信息：')\n",
    "    mem = psutil.virtual_memory()\n",
    "    # 单位换算为MB\n",
    "    memtotal = mem.total/1024/1024\n",
    "    memused = mem.used/1024/1024\n",
    "    membaifen = str(mem.used/mem.total*100) + '%'\n",
    "\n",
    "    print('%.2fMB' % memused)\n",
    "    print('%.2fMB' % memtotal)\n",
    "    print(membaifen)\n",
    "\n",
    "def cuplist():\n",
    "    print('磁盘信息：')\n",
    "    disk = psutil.disk_partitions()\n",
    "    diskuse = psutil.disk_usage('/')\n",
    "    #单位换算为GB\n",
    "    diskused = diskuse.used / 1024 / 1024 / 1024\n",
    "    disktotal = diskuse.total / 1024 / 1024 / 1024\n",
    "    diskbaifen = diskused / disktotal * 100\n",
    "    print('%.2fGB' % diskused)\n",
    "    print('%.2fGB' % disktotal)\n",
    "    print('%.2f' % diskbaifen)\n",
    "\n",
    "memissue()\n",
    "print('*******************')\n",
    "cuplist()"
   ]
  },
  {
   "cell_type": "code",
   "execution_count": null,
   "metadata": {},
   "outputs": [],
   "source": [
    "# 电脑鼠标不移动触发任务\n",
    "import time\n",
    "from pynput.mouse import Controller,Button\n",
    "import random\n",
    "mouse = Controller()\n",
    "while True:\n",
    "    print('the current pointer position is {0}'.format(mouse.position))\n",
    "    oldPosition=mouse.position\n",
    "    time.sleep(60)\n",
    "    print('the current pointer position is {0}'.format(mouse.position))\n",
    "    newPosition=mouse.position\n",
    "    if(oldPosition == newPosition): \n",
    "        print(\"相同\")\n",
    "        mouse.move(random.randint(-90,90),random.randint(-90,90))\n",
    "        mouse.click(Button.right,2)\n",
    "        "
   ]
  },
  {
   "cell_type": "code",
   "execution_count": null,
   "metadata": {},
   "outputs": [],
   "source": [
    "import win32api\n",
    "import time\n",
    "\n",
    "while 1:\n",
    "    time.sleep(1)\n",
    "    x, y = win32api.GetCursorPos()\n",
    "    print('{}, {}'.format(x, y))"
   ]
  },
  {
   "cell_type": "code",
   "execution_count": 51,
   "metadata": {},
   "outputs": [
    {
     "name": "stdout",
     "output_type": "stream",
     "text": [
      "txt\n",
      "打印运单.pdf\n"
     ]
    }
   ],
   "source": [
    "# 文件夹批量命名\n",
    "\n",
    "# 输出目录下文件和文件夹名\n",
    "import os\n",
    "import glob\n",
    "import re\n",
    "\n",
    "path_root = r\"C:\\Users\\win10\\Desktop\\test\"\n",
    "\n",
    "def print_orgin_filename(path_root):\n",
    "    for i in os.listdir(path_root):\n",
    "        print(i)\n",
    "print_orgin_filename(path_root)\n",
    "\n",
    "\n",
    "# 重命名\n",
    "def rename_files(path_root, str_to_split, suffix):\n",
    "    i=1\n",
    "    suffix_re = '*.'+suffix\n",
    "    os.chdir(path_root)\n",
    "    for filename in glob.glob(suffix_re):\n",
    "        if str_to_split in filename:\n",
    "            item_list = split_string(str_to_split, filename)     \n",
    "            file_src = os.path.join(path_root, filename)\n",
    "            file_des = os.path.join(path_root, item_list[0]+str(i)+'.'+suffix)\n",
    "            i=i+1\n",
    "            os.rename(src=file_src, dst=file_des)\n",
    "        \n",
    "# rename_files(path_root, '-', 'txt')       \n",
    "\n",
    "# 1为分割点\n",
    "# 传空参：None\n",
    "# 绝对路径glob.glob获取指定目录下的所有图片 print (glob.glob(r\"/home/qiaoyunhao/*/*.png\"),\"\\n\")\n",
    "# 相对路径glob.glob获取上级目录的所有.py文件 print (glob.glob(r'../*.py'))\n",
    "# 字符串包含 in \n"
   ]
  },
  {
   "cell_type": "code",
   "execution_count": 50,
   "metadata": {},
   "outputs": [
    {
     "ename": "PermissionError",
     "evalue": "[WinError 32] 另一个程序正在使用此文件，进程无法访问。: 'C:\\\\Users\\\\win10\\\\Desktop\\\\workFile.xlsx'",
     "output_type": "error",
     "traceback": [
      "\u001b[1;31m---------------------------------------------------------------------------\u001b[0m",
      "\u001b[1;31mPermissionError\u001b[0m                           Traceback (most recent call last)",
      "\u001b[1;32mD:\\anaconda\\lib\\shutil.py\u001b[0m in \u001b[0;36mmove\u001b[1;34m(src, dst, copy_function)\u001b[0m\n\u001b[0;32m    556\u001b[0m     \u001b[1;32mtry\u001b[0m\u001b[1;33m:\u001b[0m\u001b[1;33m\u001b[0m\u001b[0m\n\u001b[1;32m--> 557\u001b[1;33m         \u001b[0mos\u001b[0m\u001b[1;33m.\u001b[0m\u001b[0mrename\u001b[0m\u001b[1;33m(\u001b[0m\u001b[0msrc\u001b[0m\u001b[1;33m,\u001b[0m \u001b[0mreal_dst\u001b[0m\u001b[1;33m)\u001b[0m\u001b[1;33m\u001b[0m\u001b[0m\n\u001b[0m\u001b[0;32m    558\u001b[0m     \u001b[1;32mexcept\u001b[0m \u001b[0mOSError\u001b[0m\u001b[1;33m:\u001b[0m\u001b[1;33m\u001b[0m\u001b[0m\n",
      "\u001b[1;31mPermissionError\u001b[0m: [WinError 32] 另一个程序正在使用此文件，进程无法访问。: 'C:\\\\Users\\\\win10\\\\Desktop\\\\workFile.xlsx' -> 'C:\\\\Users\\\\win10\\\\Desktop\\\\xlsx\\\\workFile.xlsx'",
      "\nDuring handling of the above exception, another exception occurred:\n",
      "\u001b[1;31mPermissionError\u001b[0m                           Traceback (most recent call last)",
      "\u001b[1;32m<ipython-input-50-ee480b866651>\u001b[0m in \u001b[0;36m<module>\u001b[1;34m()\u001b[0m\n\u001b[0;32m     24\u001b[0m             \u001b[0mcreate_folder\u001b[0m\u001b[1;33m(\u001b[0m\u001b[0mpath_sub_folder\u001b[0m\u001b[1;33m)\u001b[0m\u001b[1;33m\u001b[0m\u001b[0m\n\u001b[0;32m     25\u001b[0m             \u001b[0mmove_file\u001b[0m\u001b[1;33m(\u001b[0m\u001b[0mfile_old\u001b[0m\u001b[1;33m,\u001b[0m\u001b[0mfile_new\u001b[0m\u001b[1;33m)\u001b[0m\u001b[1;33m\u001b[0m\u001b[0m\n\u001b[1;32m---> 26\u001b[1;33m \u001b[0mcollect\u001b[0m\u001b[1;33m(\u001b[0m\u001b[1;33m)\u001b[0m\u001b[1;33m\u001b[0m\u001b[0m\n\u001b[0m",
      "\u001b[1;32m<ipython-input-50-ee480b866651>\u001b[0m in \u001b[0;36mcollect\u001b[1;34m()\u001b[0m\n\u001b[0;32m     23\u001b[0m             \u001b[0mfile_new\u001b[0m \u001b[1;33m=\u001b[0m\u001b[0mos\u001b[0m\u001b[1;33m.\u001b[0m\u001b[0mpath\u001b[0m\u001b[1;33m.\u001b[0m\u001b[0mjoin\u001b[0m\u001b[1;33m(\u001b[0m\u001b[0mpath_sub_folder\u001b[0m\u001b[1;33m,\u001b[0m\u001b[0mf\u001b[0m\u001b[1;33m)\u001b[0m\u001b[1;33m\u001b[0m\u001b[0m\n\u001b[0;32m     24\u001b[0m             \u001b[0mcreate_folder\u001b[0m\u001b[1;33m(\u001b[0m\u001b[0mpath_sub_folder\u001b[0m\u001b[1;33m)\u001b[0m\u001b[1;33m\u001b[0m\u001b[0m\n\u001b[1;32m---> 25\u001b[1;33m             \u001b[0mmove_file\u001b[0m\u001b[1;33m(\u001b[0m\u001b[0mfile_old\u001b[0m\u001b[1;33m,\u001b[0m\u001b[0mfile_new\u001b[0m\u001b[1;33m)\u001b[0m\u001b[1;33m\u001b[0m\u001b[0m\n\u001b[0m\u001b[0;32m     26\u001b[0m \u001b[0mcollect\u001b[0m\u001b[1;33m(\u001b[0m\u001b[1;33m)\u001b[0m\u001b[1;33m\u001b[0m\u001b[0m\n",
      "\u001b[1;32m<ipython-input-50-ee480b866651>\u001b[0m in \u001b[0;36mmove_file\u001b[1;34m(old, new)\u001b[0m\n\u001b[0;32m     12\u001b[0m \u001b[1;32mdef\u001b[0m \u001b[0mmove_file\u001b[0m\u001b[1;33m(\u001b[0m\u001b[0mold\u001b[0m\u001b[1;33m,\u001b[0m\u001b[0mnew\u001b[0m\u001b[1;33m)\u001b[0m\u001b[1;33m:\u001b[0m\u001b[1;33m\u001b[0m\u001b[0m\n\u001b[0;32m     13\u001b[0m        \u001b[1;32mif\u001b[0m \u001b[1;32mnot\u001b[0m \u001b[0mos\u001b[0m\u001b[1;33m.\u001b[0m\u001b[0mpath\u001b[0m\u001b[1;33m.\u001b[0m\u001b[0mexists\u001b[0m\u001b[1;33m(\u001b[0m\u001b[0mnew\u001b[0m\u001b[1;33m)\u001b[0m\u001b[1;33m:\u001b[0m\u001b[1;33m\u001b[0m\u001b[0m\n\u001b[1;32m---> 14\u001b[1;33m         \u001b[0mshutil\u001b[0m\u001b[1;33m.\u001b[0m\u001b[0mmove\u001b[0m\u001b[1;33m(\u001b[0m\u001b[0mold\u001b[0m\u001b[1;33m,\u001b[0m\u001b[0mnew\u001b[0m\u001b[1;33m)\u001b[0m\u001b[1;33m\u001b[0m\u001b[0m\n\u001b[0m\u001b[0;32m     15\u001b[0m \u001b[1;33m\u001b[0m\u001b[0m\n\u001b[0;32m     16\u001b[0m \u001b[1;33m\u001b[0m\u001b[0m\n",
      "\u001b[1;32mD:\\anaconda\\lib\\shutil.py\u001b[0m in \u001b[0;36mmove\u001b[1;34m(src, dst, copy_function)\u001b[0m\n\u001b[0;32m    570\u001b[0m         \u001b[1;32melse\u001b[0m\u001b[1;33m:\u001b[0m\u001b[1;33m\u001b[0m\u001b[0m\n\u001b[0;32m    571\u001b[0m             \u001b[0mcopy_function\u001b[0m\u001b[1;33m(\u001b[0m\u001b[0msrc\u001b[0m\u001b[1;33m,\u001b[0m \u001b[0mreal_dst\u001b[0m\u001b[1;33m)\u001b[0m\u001b[1;33m\u001b[0m\u001b[0m\n\u001b[1;32m--> 572\u001b[1;33m             \u001b[0mos\u001b[0m\u001b[1;33m.\u001b[0m\u001b[0munlink\u001b[0m\u001b[1;33m(\u001b[0m\u001b[0msrc\u001b[0m\u001b[1;33m)\u001b[0m\u001b[1;33m\u001b[0m\u001b[0m\n\u001b[0m\u001b[0;32m    573\u001b[0m     \u001b[1;32mreturn\u001b[0m \u001b[0mreal_dst\u001b[0m\u001b[1;33m\u001b[0m\u001b[0m\n\u001b[0;32m    574\u001b[0m \u001b[1;33m\u001b[0m\u001b[0m\n",
      "\u001b[1;31mPermissionError\u001b[0m: [WinError 32] 另一个程序正在使用此文件，进程无法访问。: 'C:\\\\Users\\\\win10\\\\Desktop\\\\workFile.xlsx'"
     ]
    }
   ],
   "source": [
    "#整理桌面\n",
    "import os\n",
    "import shutil\n",
    "\n",
    "path_root = r\"C:\\Users\\win10\\Desktop\"\n",
    "\n",
    "def create_folder(path_sub_folder):\n",
    "    if not os.path.exists(path_sub_folder):\n",
    "        os.mkdir(path_sub_folder)\n",
    " \n",
    "        \n",
    "def move_file(old,new):\n",
    "       if not os.path.exists(new):\n",
    "        shutil.move(old,new)\n",
    "    \n",
    "    \n",
    "def collect():\n",
    "    for f in os.listdir(path_root):\n",
    "        file_old=os.path.join(path_root,f)\n",
    "        if(os.path.isfile(file_old)):\n",
    "            extension=f.split('.')[-1]#扩展名\n",
    "            path_sub_folder=os.path.join(path_root,extension)\n",
    "            file_new =os.path.join(path_sub_folder,f)\n",
    "            create_folder(path_sub_folder)\n",
    "            move_file(file_old,file_new)\n",
    "collect()        "
   ]
  },
  {
   "cell_type": "code",
   "execution_count": 12,
   "metadata": {},
   "outputs": [
    {
     "name": "stdout",
     "output_type": "stream",
     "text": [
      "当前工作目录为 C:\\Users\\win10\\Desktop\n"
     ]
    }
   ],
   "source": [
    "# 判断文件或文件夹是否为空，若为空删除\n",
    "import os\n",
    "import glob\n",
    "\n",
    "path_root = r\"C:\\Users\\win10\\Desktop\"\n",
    "\n",
    "\n",
    "# 改变当前工作目录\n",
    "os.chdir(path_root)\n",
    "# 查看当前工作目录\n",
    "retval = os.getcwd()\n",
    "print(\"当前工作目录为 %s\" % retval)\n",
    "for filename in glob.glob(\"*\"):\n",
    "    path = path_root+\"\\\\\"+filename\n",
    "    # 删文件夹\n",
    "    if os.path.isdir(path) and not os.listdir(path):\n",
    "        os.rmdir(path)\n",
    "    # 删文件\n",
    "    if os.path.isfile(path):\n",
    "        size = os.path.getsize(path)\n",
    "        if size == 0:\n",
    "            os.remove(path)"
   ]
  },
  {
   "cell_type": "code",
   "execution_count": 4,
   "metadata": {},
   "outputs": [
    {
     "name": "stdout",
     "output_type": "stream",
     "text": [
      "C:\\Users\\win10\\Desktop\\test\\www.txt\n",
      "C:\\Users\\win10\\Desktop\\test\\add\\新建文本文档.txt\n",
      "一共2个文件\n"
     ]
    }
   ],
   "source": [
    "#查找文件\n",
    "import os,glob\n",
    "path_root = r\"C:\\Users\\win10\\Desktop\\test\"\n",
    "file_list=[]\n",
    "for root,dirs,file in os.walk(path_root):#依次遍历目录-子目录\n",
    "#     print(\"root:\",root)\n",
    "#     print(\"dirs:\",dirs)\n",
    "#     print(\"files:\",file)\n",
    "#     print(\"------------\")\n",
    "    file_pattern = os.path.join(root,'*.txt')\n",
    "    for f in glob.glob(file_pattern):\n",
    "        print(f)\n",
    "        file_list.append(f)\n",
    "print('一共%d个文件'% len(file_list))"
   ]
  },
  {
   "cell_type": "code",
   "execution_count": 6,
   "metadata": {},
   "outputs": [
    {
     "ename": "TclError",
     "evalue": "invalid color name \"#teal\"",
     "output_type": "error",
     "traceback": [
      "\u001b[1;31m---------------------------------------------------------------------------\u001b[0m",
      "\u001b[1;31mTclError\u001b[0m                                  Traceback (most recent call last)",
      "\u001b[1;32m<ipython-input-6-671cd7ba29e2>\u001b[0m in \u001b[0;36m<module>\u001b[1;34m()\u001b[0m\n\u001b[0;32m     30\u001b[0m     \u001b[0mapp\u001b[0m\u001b[1;33m.\u001b[0m\u001b[0mafter\u001b[0m\u001b[1;33m(\u001b[0m\u001b[1;36m1000\u001b[0m\u001b[1;33m,\u001b[0m\u001b[1;32mlambda\u001b[0m\u001b[1;33m:\u001b[0m\u001b[0mui_updata\u001b[0m\u001b[1;33m(\u001b[0m\u001b[0mdo\u001b[0m\u001b[1;33m)\u001b[0m\u001b[1;33m)\u001b[0m\u001b[1;33m\u001b[0m\u001b[0m\n\u001b[0;32m     31\u001b[0m \u001b[1;33m\u001b[0m\u001b[0m\n\u001b[1;32m---> 32\u001b[1;33m \u001b[0mapp\u001b[0m \u001b[1;33m=\u001b[0m \u001b[0mmake_app\u001b[0m\u001b[1;33m(\u001b[0m\u001b[1;33m)\u001b[0m\u001b[1;33m\u001b[0m\u001b[0m\n\u001b[0m\u001b[0;32m     33\u001b[0m \u001b[1;31m#每1秒后调用ui_updata(speed_test)函数\u001b[0m\u001b[1;33m\u001b[0m\u001b[1;33m\u001b[0m\u001b[0m\n\u001b[0;32m     34\u001b[0m \u001b[0mapp\u001b[0m\u001b[1;33m.\u001b[0m\u001b[0mafter\u001b[0m\u001b[1;33m(\u001b[0m\u001b[1;36m1000\u001b[0m\u001b[1;33m,\u001b[0m\u001b[1;32mlambda\u001b[0m \u001b[1;33m:\u001b[0m\u001b[0mui_updata\u001b[0m\u001b[1;33m(\u001b[0m\u001b[0mspeed_test\u001b[0m\u001b[1;33m)\u001b[0m\u001b[1;33m)\u001b[0m\u001b[1;33m\u001b[0m\u001b[0m\n",
      "\u001b[1;32m<ipython-input-6-671cd7ba29e2>\u001b[0m in \u001b[0;36mmake_app\u001b[1;34m()\u001b[0m\n\u001b[0;32m      7\u001b[0m     \u001b[0mapp\u001b[0m \u001b[1;33m=\u001b[0m\u001b[0mTk\u001b[0m\u001b[1;33m(\u001b[0m\u001b[1;33m)\u001b[0m\u001b[1;33m\u001b[0m\u001b[0m\n\u001b[0;32m      8\u001b[0m     \u001b[0mapp\u001b[0m\u001b[1;33m.\u001b[0m\u001b[0mgeometry\u001b[0m\u001b[1;33m(\u001b[0m\u001b[1;34m'200x100'\u001b[0m\u001b[1;33m)\u001b[0m\u001b[1;33m\u001b[0m\u001b[0m\n\u001b[1;32m----> 9\u001b[1;33m     \u001b[0mapp\u001b[0m\u001b[1;33m.\u001b[0m\u001b[0mconfig\u001b[0m\u001b[1;33m(\u001b[0m\u001b[0mbg\u001b[0m\u001b[1;33m=\u001b[0m\u001b[1;34m'#teal'\u001b[0m\u001b[1;33m)\u001b[0m\u001b[1;33m\u001b[0m\u001b[0m\n\u001b[0m\u001b[0;32m     10\u001b[0m     \u001b[0mLabel\u001b[0m\u001b[1;33m(\u001b[0m\u001b[0mtext\u001b[0m\u001b[1;33m=\u001b[0m\u001b[1;34m'实时网速监控'\u001b[0m\u001b[1;33m,\u001b[0m\u001b[0mfont\u001b[0m\u001b[1;33m=\u001b[0m\u001b[1;33m(\u001b[0m\u001b[1;34m'Hack'\u001b[0m\u001b[1;33m,\u001b[0m\u001b[1;36m23\u001b[0m\u001b[1;33m,\u001b[0m\u001b[1;34m'bold'\u001b[0m\u001b[1;33m)\u001b[0m\u001b[1;33m,\u001b[0m\u001b[0mbg\u001b[0m\u001b[1;33m=\u001b[0m\u001b[1;34m'#303030'\u001b[0m\u001b[1;33m,\u001b[0m\u001b[0mfg\u001b[0m\u001b[1;33m=\u001b[0m\u001b[1;34m'white'\u001b[0m\u001b[1;33m)\u001b[0m\u001b[1;33m.\u001b[0m\u001b[0mpack\u001b[0m\u001b[1;33m(\u001b[0m\u001b[1;33m)\u001b[0m\u001b[1;33m\u001b[0m\u001b[0m\n\u001b[0;32m     11\u001b[0m     \u001b[0mLabel\u001b[0m\u001b[1;33m(\u001b[0m\u001b[0mname\u001b[0m\u001b[1;33m=\u001b[0m\u001b[1;34m'lb2'\u001b[0m\u001b[1;33m,\u001b[0m\u001b[0mtext\u001b[0m\u001b[1;33m=\u001b[0m\u001b[1;34m'_kb/s'\u001b[0m\u001b[1;33m,\u001b[0m\u001b[0mfont\u001b[0m\u001b[1;33m=\u001b[0m\u001b[1;33m(\u001b[0m\u001b[1;34m'Hack'\u001b[0m\u001b[1;33m,\u001b[0m\u001b[1;36m20\u001b[0m\u001b[1;33m,\u001b[0m\u001b[1;34m'bold'\u001b[0m\u001b[1;33m)\u001b[0m\u001b[1;33m,\u001b[0m\u001b[0mbg\u001b[0m\u001b[1;33m=\u001b[0m\u001b[1;34m'#303030'\u001b[0m\u001b[1;33m,\u001b[0m\u001b[0mfg\u001b[0m\u001b[1;33m=\u001b[0m\u001b[1;34m'white'\u001b[0m\u001b[1;33m)\u001b[0m\u001b[1;33m.\u001b[0m\u001b[0mpack\u001b[0m\u001b[1;33m(\u001b[0m\u001b[1;33m)\u001b[0m\u001b[1;33m\u001b[0m\u001b[0m\n",
      "\u001b[1;32mD:\\anaconda\\lib\\tkinter\\__init__.py\u001b[0m in \u001b[0;36mconfigure\u001b[1;34m(self, cnf, **kw)\u001b[0m\n\u001b[0;32m   1480\u001b[0m         \u001b[0mthe\u001b[0m \u001b[0mallowed\u001b[0m \u001b[0mkeyword\u001b[0m \u001b[0marguments\u001b[0m \u001b[0mcall\u001b[0m \u001b[0mthe\u001b[0m \u001b[0mmethod\u001b[0m \u001b[0mkeys\u001b[0m\u001b[1;33m.\u001b[0m\u001b[1;33m\u001b[0m\u001b[0m\n\u001b[0;32m   1481\u001b[0m         \"\"\"\n\u001b[1;32m-> 1482\u001b[1;33m         \u001b[1;32mreturn\u001b[0m \u001b[0mself\u001b[0m\u001b[1;33m.\u001b[0m\u001b[0m_configure\u001b[0m\u001b[1;33m(\u001b[0m\u001b[1;34m'configure'\u001b[0m\u001b[1;33m,\u001b[0m \u001b[0mcnf\u001b[0m\u001b[1;33m,\u001b[0m \u001b[0mkw\u001b[0m\u001b[1;33m)\u001b[0m\u001b[1;33m\u001b[0m\u001b[0m\n\u001b[0m\u001b[0;32m   1483\u001b[0m     \u001b[0mconfig\u001b[0m \u001b[1;33m=\u001b[0m \u001b[0mconfigure\u001b[0m\u001b[1;33m\u001b[0m\u001b[0m\n\u001b[0;32m   1484\u001b[0m     \u001b[1;32mdef\u001b[0m \u001b[0mcget\u001b[0m\u001b[1;33m(\u001b[0m\u001b[0mself\u001b[0m\u001b[1;33m,\u001b[0m \u001b[0mkey\u001b[0m\u001b[1;33m)\u001b[0m\u001b[1;33m:\u001b[0m\u001b[1;33m\u001b[0m\u001b[0m\n",
      "\u001b[1;32mD:\\anaconda\\lib\\tkinter\\__init__.py\u001b[0m in \u001b[0;36m_configure\u001b[1;34m(self, cmd, cnf, kw)\u001b[0m\n\u001b[0;32m   1471\u001b[0m         \u001b[1;32mif\u001b[0m \u001b[0misinstance\u001b[0m\u001b[1;33m(\u001b[0m\u001b[0mcnf\u001b[0m\u001b[1;33m,\u001b[0m \u001b[0mstr\u001b[0m\u001b[1;33m)\u001b[0m\u001b[1;33m:\u001b[0m\u001b[1;33m\u001b[0m\u001b[0m\n\u001b[0;32m   1472\u001b[0m             \u001b[1;32mreturn\u001b[0m \u001b[0mself\u001b[0m\u001b[1;33m.\u001b[0m\u001b[0m_getconfigure1\u001b[0m\u001b[1;33m(\u001b[0m\u001b[0m_flatten\u001b[0m\u001b[1;33m(\u001b[0m\u001b[1;33m(\u001b[0m\u001b[0mself\u001b[0m\u001b[1;33m.\u001b[0m\u001b[0m_w\u001b[0m\u001b[1;33m,\u001b[0m \u001b[0mcmd\u001b[0m\u001b[1;33m,\u001b[0m \u001b[1;34m'-'\u001b[0m\u001b[1;33m+\u001b[0m\u001b[0mcnf\u001b[0m\u001b[1;33m)\u001b[0m\u001b[1;33m)\u001b[0m\u001b[1;33m)\u001b[0m\u001b[1;33m\u001b[0m\u001b[0m\n\u001b[1;32m-> 1473\u001b[1;33m         \u001b[0mself\u001b[0m\u001b[1;33m.\u001b[0m\u001b[0mtk\u001b[0m\u001b[1;33m.\u001b[0m\u001b[0mcall\u001b[0m\u001b[1;33m(\u001b[0m\u001b[0m_flatten\u001b[0m\u001b[1;33m(\u001b[0m\u001b[1;33m(\u001b[0m\u001b[0mself\u001b[0m\u001b[1;33m.\u001b[0m\u001b[0m_w\u001b[0m\u001b[1;33m,\u001b[0m \u001b[0mcmd\u001b[0m\u001b[1;33m)\u001b[0m\u001b[1;33m)\u001b[0m \u001b[1;33m+\u001b[0m \u001b[0mself\u001b[0m\u001b[1;33m.\u001b[0m\u001b[0m_options\u001b[0m\u001b[1;33m(\u001b[0m\u001b[0mcnf\u001b[0m\u001b[1;33m)\u001b[0m\u001b[1;33m)\u001b[0m\u001b[1;33m\u001b[0m\u001b[0m\n\u001b[0m\u001b[0;32m   1474\u001b[0m     \u001b[1;31m# These used to be defined in Widget:\u001b[0m\u001b[1;33m\u001b[0m\u001b[1;33m\u001b[0m\u001b[0m\n\u001b[0;32m   1475\u001b[0m     \u001b[1;32mdef\u001b[0m \u001b[0mconfigure\u001b[0m\u001b[1;33m(\u001b[0m\u001b[0mself\u001b[0m\u001b[1;33m,\u001b[0m \u001b[0mcnf\u001b[0m\u001b[1;33m=\u001b[0m\u001b[1;32mNone\u001b[0m\u001b[1;33m,\u001b[0m \u001b[1;33m**\u001b[0m\u001b[0mkw\u001b[0m\u001b[1;33m)\u001b[0m\u001b[1;33m:\u001b[0m\u001b[1;33m\u001b[0m\u001b[0m\n",
      "\u001b[1;31mTclError\u001b[0m: invalid color name \"#teal\""
     ]
    }
   ],
   "source": [
    "# 显示网速\n",
    "import psutil\n",
    "import time\n",
    "from tkinter import *\n",
    "\n",
    "def make_app():\n",
    "    app =Tk()\n",
    "    app.geometry('200x100')\n",
    "    app.config(bg='#303030')\n",
    "    Label(text='实时网速监控',font=('Hack',23,'bold'),bg='#303030',fg='white').pack()\n",
    "    Label(name='lb2',text='_kb/s',font=('Hack',20,'bold'),bg='#303030',fg='white').pack()\n",
    "    return app\n",
    "\n",
    "def speed_test():\n",
    "\n",
    "    s1 = psutil.net_io_counters(pernic=True)['以太网']\n",
    "    time.sleep(1)\n",
    "    s2 = psutil.net_io_counters(pernic=True)['以太网']\n",
    "    result = s2.bytes_recv - s1.bytes_recv\n",
    "    #除法结果保留两位小数\n",
    "    return str('%.2f'%result) + 'kb/s'\n",
    "\n",
    "def ui_updata(do):\n",
    "    data = do()\n",
    "    #app下名字是lb2的子控件\n",
    "    lb2  = app.children['lb2']\n",
    "    #配置，替换原来的text\n",
    "    lb2.config(text=data)\n",
    "    #每1秒后调用lambda:ui_updata(do)函数\n",
    "    app.after(1000,lambda:ui_updata(do))\n",
    "\n",
    "app = make_app()\n",
    "#每1秒后调用ui_updata(speed_test)函数\n",
    "app.after(1000,lambda :ui_updata(speed_test))\n",
    "app.mainloop()\n"
   ]
  },
  {
   "cell_type": "code",
   "execution_count": null,
   "metadata": {},
   "outputs": [],
   "source": [
    "#数据清理\n",
    "from config import data\n",
    "from filter import drop\n",
    "from refine import percentage, refine_3a\n",
    "\n",
    "# Python脚本的名字列表\n",
    "mod_list = [\n",
    "    refine_3a,\n",
    "    percentage\n",
    "]\n",
    "\n",
    "# 数据的类\n",
    "data = data.Data()\n",
    "\n",
    "def handle_alarm():\n",
    "    \"\"\"\n",
    "    :return: 返回的是经过修饰的最终数据\n",
    "    \"\"\"\n",
    "    \n",
    "    # 给数据命一个别名\n",
    "    alarm_new = data.alarm\n",
    "\n",
    "    # 数据丢弃，不符合条件的数据都抛弃掉\n",
    "    if not drop.drop_filter(alarm_new):\n",
    "        return\n",
    "\n",
    "    # 数据丰富\n",
    "    for mod in mod_list:\n",
    "        # data.load是 所有处理数据的 函数的列表\n",
    "        for p in data.load:\n",
    "            # 判断mod这个Python脚本 是否有p这个函数\n",
    "            if hasattr(mod, p):\n",
    "                # 得到这个函数，并运行\n",
    "                getattr(mod, p)()\n",
    "    return data.alarm_new"
   ]
  },
  {
   "cell_type": "code",
   "execution_count": null,
   "metadata": {},
   "outputs": [],
   "source": [
    "#排班\n",
    "import time\n",
    "from datetime import datetime\n",
    "\n",
    "# 值班时间表，时间用字符串表示，看起来清晰一些\n",
    "# 中班分层两个key，是为了下面对比时间方便\n",
    "schedule_dict = {\n",
    "    '早班': ['8:30', '16:30'],\n",
    "    '中班-昨天': [\"16:30\", \"00:00\"],\n",
    "    '中班-今天': [\"00:00\", \"00:30\"],\n",
    "    '晚班': [\"00:30\", \"8:30\"]\n",
    "}\n",
    "\n",
    "# 值班人员表\n",
    "attendants_dict = {\n",
    "    '早班': '张三',\n",
    "    '中班-昨天': '李四',\n",
    "    '中班-今天': '李四',\n",
    "    '晚班': '王五'\n",
    "}\n",
    "\n",
    "# 自动计算好当前时间的年、月、日\n",
    "now_year = datetime.now().year\n",
    "now_month = datetime.now().month\n",
    "now_day = datetime.now().day\n",
    "\n",
    "\n",
    "# 从 schedule_dict 中的字符串提取出数字的小时、分钟\n",
    "def get_hour_minute(hour_minute_string):\n",
    "    hour = int(str(hour_minute_string).split(':')[0])\n",
    "    minute = int(str(hour_minute_string).split(':')[1])\n",
    "    return hour, minute\n",
    "\n",
    "\n",
    "def run():\n",
    "    # 值班人员列表初始化\n",
    "    on_call_list = []\n",
    "\n",
    "    # 遍历值班时间的表\n",
    "    for k, v in schedule_dict.items():\n",
    "\n",
    "        # 把 schedule_dict中的字符串弄成数字的小时、分钟\n",
    "        time_begin_str, time_end_str = v\n",
    "        hour_begin, minute_begin = get_hour_minute(time_begin_str)\n",
    "        hour_end, minute_end = get_hour_minute(time_end_str)\n",
    "\n",
    "        # 值班开始的时间\n",
    "        time_begin = datetime(year=now_year, month=now_month, day=now_day,\n",
    "                            hour=hour_begin, minute=minute_begin)\n",
    "\n",
    "        # 值班结束的时间\n",
    "        time_end = datetime(year=now_year, month=now_month, day=now_day,\n",
    "                            hour=hour_end, minute=minute_end)\n",
    "\n",
    "        # 现在的时间\n",
    "        time_now = datetime.now()\n",
    "\n",
    "        # 三个班次，会循环3次，对比现在的时间在哪个班次\n",
    "        if time_begin <= time_now <= time_end:\n",
    "            print('现在班次是：', k)\n",
    "            on_call_person = attendants_dict.get(k)\n",
    "            print('值班人员是：', on_call_person)\n",
    "            on_call_list.append(on_call_person)\n",
    "\n",
    "    no_on_call_list = list(set(attendants_dict.values()) - set(on_call_list))\n",
    "    print('休息的人分别是：', '、'.join(no_on_call_list))\n",
    "    print('-------------------------------------------------------------------')\n",
    "\n",
    "\n",
    "def main():\n",
    "    while 1:\n",
    "        run()\n",
    "        # 这里可以30分钟刷一次，改成1800就行，\n",
    "        # 这样就能实时获取当前值班的人，休息的人\n",
    "        time.sleep(1)\n",
    "\n",
    "\n",
    "if __name__ == '__main__':\n",
    "    main()"
   ]
  },
  {
   "cell_type": "code",
   "execution_count": 1,
   "metadata": {},
   "outputs": [
    {
     "name": "stdout",
     "output_type": "stream",
     "text": [
      "Overwriting genarateRandomNum.py\n"
     ]
    }
   ],
   "source": [
    "%%writefile genarateRandomNum.py\n",
    "#生成随机数打包成exe\n",
    "import tkinter as tk\n",
    "import random\n",
    "def genarate_random():\n",
    "    return str(random.randint(1,100))\n",
    "def control_entry():\n",
    "    entry_random.delete(0,tk.END)\n",
    "    entry_random.insert(0,genarate_random())\n",
    "if __name__ == '__main__':\n",
    "    root=tk.Tk()\n",
    "    root.title('生成随机数')\n",
    "    root.geometry('250x100')\n",
    "    label_random=tk.Label(root,text='生成1-100以内的随机数')\n",
    "    entry_random=tk.Entry(root)#输入框\n",
    "    button_gen=tk.Button(\n",
    "        root,\n",
    "        text='生产随机数',\n",
    "        command=control_entry)\n",
    "    #三个控件从上往下布局\n",
    "    label_random.pack()\n",
    "    entry_random.pack()\n",
    "    button_gen.pack()\n",
    "    root.mainloop()"
   ]
  },
  {
   "cell_type": "code",
   "execution_count": 1,
   "metadata": {},
   "outputs": [
    {
     "name": "stdout",
     "output_type": "stream",
     "text": [
      "Collecting pyinstaller\n",
      "  Downloading pyinstaller-4.3.tar.gz (3.7 MB)\n",
      "  Installing build dependencies: started\n",
      "  Installing build dependencies: finished with status 'done'\n",
      "  Getting requirements to build wheel: started\n",
      "  Getting requirements to build wheel: finished with status 'done'\n",
      "    Preparing wheel metadata: started\n",
      "    Preparing wheel metadata: finished with status 'done'\n",
      "Collecting pyinstaller-hooks-contrib>=2020.6\n",
      "  Downloading pyinstaller_hooks_contrib-2021.1-py2.py3-none-any.whl (181 kB)\n",
      "Collecting pywin32-ctypes>=0.2.0\n",
      "  Downloading pywin32_ctypes-0.2.0-py2.py3-none-any.whl (28 kB)\n",
      "Collecting importlib-metadata\n",
      "  Downloading importlib_metadata-4.0.1-py3-none-any.whl (16 kB)\n",
      "Requirement already satisfied: setuptools in d:\\anaconda\\lib\\site-packages (from pyinstaller) (40.2.0)\n",
      "Collecting pefile>=2017.8.1\n",
      "  Downloading pefile-2021.5.24.tar.gz (66 kB)\n",
      "Collecting altgraph\n",
      "  Downloading altgraph-0.17-py2.py3-none-any.whl (21 kB)\n",
      "Collecting future\n",
      "  Downloading future-0.18.2.tar.gz (829 kB)\n",
      "Collecting zipp>=0.5\n",
      "  Downloading zipp-3.4.1-py3-none-any.whl (5.2 kB)\n",
      "Collecting typing-extensions>=3.6.4\n",
      "  Downloading typing_extensions-3.10.0.0-py3-none-any.whl (26 kB)\n",
      "Building wheels for collected packages: pyinstaller, pefile, future\n",
      "  Building wheel for pyinstaller (PEP 517): started\n",
      "  Building wheel for pyinstaller (PEP 517): finished with status 'done'\n",
      "  Created wheel for pyinstaller: filename=pyinstaller-4.3-py3-none-any.whl size=2457323 sha256=f9aa4b684322202c3d4f16e27f5a078b240f72e2bb2fdb8fda6233d123880a21\n",
      "  Stored in directory: c:\\users\\win10\\appdata\\local\\pip\\cache\\wheels\\c6\\aa\\cd\\9021689f2c52d6892bba1155ad6c95a4e5791daab4f06d5422\n",
      "  Building wheel for pefile (setup.py): started\n",
      "  Building wheel for pefile (setup.py): finished with status 'done'\n",
      "  Created wheel for pefile: filename=pefile-2021.5.24-py3-none-any.whl size=61758 sha256=27128dc093a1e96c5e0f229cb00b3f85777d64ef0b73fe5891272515c44ae286\n",
      "  Stored in directory: c:\\users\\win10\\appdata\\local\\pip\\cache\\wheels\\85\\ea\\e0\\6b00cf7797a191cc56bd6607ff5d5a89f4da0371aa3a3a95c5\n",
      "  Building wheel for future (setup.py): started\n",
      "  Building wheel for future (setup.py): finished with status 'done'\n",
      "  Created wheel for future: filename=future-0.18.2-py3-none-any.whl size=491098 sha256=1f82e9e0c3d915882646d5c2a8e4dbf59924ba4fefa169a4189d9b7b434acd65\n",
      "  Stored in directory: c:\\users\\win10\\appdata\\local\\pip\\cache\\wheels\\56\\b0\\fe\\4410d17b32f1f0c3cf54cdfb2bc04d7b4b8f4ae377e2229ba0\n",
      "Successfully built pyinstaller pefile future\n",
      "Installing collected packages: zipp, typing-extensions, future, pywin32-ctypes, pyinstaller-hooks-contrib, pefile, importlib-metadata, altgraph, pyinstaller\n",
      "Successfully installed altgraph-0.17 future-0.18.2 importlib-metadata-4.0.1 pefile-2021.5.24 pyinstaller-4.3 pyinstaller-hooks-contrib-2021.1 pywin32-ctypes-0.2.0 typing-extensions-3.10.0.0 zipp-3.4.1\n"
     ]
    },
    {
     "name": "stderr",
     "output_type": "stream",
     "text": [
      "WARNING: You are using pip version 21.1.1; however, version 21.1.2 is available.\n",
      "You should consider upgrading via the 'd:\\anaconda\\python.exe -m pip install --upgrade pip' command.\n"
     ]
    }
   ],
   "source": [
    "!pip install pyinstaller\n"
   ]
  },
  {
   "cell_type": "code",
   "execution_count": null,
   "metadata": {},
   "outputs": [],
   "source": [
    "!pyinstaller -F -w genarateRandomNum.py\n",
    "#ipynb要先转换成py\n",
    "#-F（注意大写）是所有库文件打包成一个exe，-w是不出黑色控制台窗口。\n",
    "#只写-F cmd运行exe可以得到报错原因"
   ]
  },
  {
   "cell_type": "code",
   "execution_count": null,
   "metadata": {},
   "outputs": [],
   "source": []
  }
 ],
 "metadata": {
  "kernelspec": {
   "display_name": "Python 3",
   "language": "python",
   "name": "python3"
  },
  "language_info": {
   "codemirror_mode": {
    "name": "ipython",
    "version": 3
   },
   "file_extension": ".py",
   "mimetype": "text/x-python",
   "name": "python",
   "nbconvert_exporter": "python",
   "pygments_lexer": "ipython3",
   "version": "3.7.0"
  }
 },
 "nbformat": 4,
 "nbformat_minor": 4
}
